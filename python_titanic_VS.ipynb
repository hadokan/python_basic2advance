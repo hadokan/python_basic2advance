{
  "cells": [
    {
      "cell_type": "markdown",
      "metadata": {
        "id": "view-in-github",
        "colab_type": "text"
      },
      "source": [
        "<a href=\"https://colab.research.google.com/github/hadokan/python_basic2advance/blob/main/python_titanic_VS.ipynb\" target=\"_parent\"><img src=\"https://colab.research.google.com/assets/colab-badge.svg\" alt=\"Open In Colab\"/></a>"
      ]
    },
    {
      "cell_type": "code",
      "execution_count": 1,
      "id": "cb8eb73a",
      "metadata": {
        "colab": {
          "base_uri": "https://localhost:8080/"
        },
        "id": "cb8eb73a",
        "outputId": "f6344756-a52e-4306-cb70-c360c5f88a18"
      },
      "outputs": [
        {
          "output_type": "stream",
          "name": "stdout",
          "text": [
            "Mounted at /content/gdrive\n"
          ]
        }
      ],
      "source": [
        "import pandas as pd\n",
        "import seaborn as sbn\n",
        "# Download and read file from drive\n",
        "\n",
        "from google.colab import drive\n",
        "drive.mount('/content/gdrive')\n",
        "import pandas as pd"
      ]
    },
    {
      "cell_type": "code",
      "execution_count": 2,
      "id": "ad670402",
      "metadata": {
        "id": "ad670402"
      },
      "outputs": [],
      "source": [
        "\n",
        "\n",
        "\n",
        "#Read csv file\n",
        "data = pd.read_csv(r'/content/gdrive/My Drive/train.csv')\n",
        "\n"
      ]
    },
    {
      "cell_type": "code",
      "execution_count": 3,
      "id": "f75df7d7",
      "metadata": {
        "colab": {
          "base_uri": "https://localhost:8080/",
          "height": 241
        },
        "id": "f75df7d7",
        "outputId": "a7fc3a4e-428f-401a-9a39-80d11600c095"
      },
      "outputs": [
        {
          "output_type": "execute_result",
          "data": {
            "text/plain": [
              "   PassengerId  Survived  Pclass  \\\n",
              "0            1         0       3   \n",
              "1            2         1       1   \n",
              "2            3         1       3   \n",
              "3            4         1       1   \n",
              "4            5         0       3   \n",
              "\n",
              "                                                Name     Sex   Age  SibSp  \\\n",
              "0                            Braund, Mr. Owen Harris    male  22.0      1   \n",
              "1  Cumings, Mrs. John Bradley (Florence Briggs Th...  female  38.0      1   \n",
              "2                             Heikkinen, Miss. Laina  female  26.0      0   \n",
              "3       Futrelle, Mrs. Jacques Heath (Lily May Peel)  female  35.0      1   \n",
              "4                           Allen, Mr. William Henry    male  35.0      0   \n",
              "\n",
              "   Parch            Ticket     Fare Cabin Embarked  \n",
              "0      0         A/5 21171   7.2500   NaN        S  \n",
              "1      0          PC 17599  71.2833   C85        C  \n",
              "2      0  STON/O2. 3101282   7.9250   NaN        S  \n",
              "3      0            113803  53.1000  C123        S  \n",
              "4      0            373450   8.0500   NaN        S  "
            ],
            "text/html": [
              "\n",
              "  <div id=\"df-64bbcea1-bfe7-4611-b7cc-84067342fdd5\" class=\"colab-df-container\">\n",
              "    <div>\n",
              "<style scoped>\n",
              "    .dataframe tbody tr th:only-of-type {\n",
              "        vertical-align: middle;\n",
              "    }\n",
              "\n",
              "    .dataframe tbody tr th {\n",
              "        vertical-align: top;\n",
              "    }\n",
              "\n",
              "    .dataframe thead th {\n",
              "        text-align: right;\n",
              "    }\n",
              "</style>\n",
              "<table border=\"1\" class=\"dataframe\">\n",
              "  <thead>\n",
              "    <tr style=\"text-align: right;\">\n",
              "      <th></th>\n",
              "      <th>PassengerId</th>\n",
              "      <th>Survived</th>\n",
              "      <th>Pclass</th>\n",
              "      <th>Name</th>\n",
              "      <th>Sex</th>\n",
              "      <th>Age</th>\n",
              "      <th>SibSp</th>\n",
              "      <th>Parch</th>\n",
              "      <th>Ticket</th>\n",
              "      <th>Fare</th>\n",
              "      <th>Cabin</th>\n",
              "      <th>Embarked</th>\n",
              "    </tr>\n",
              "  </thead>\n",
              "  <tbody>\n",
              "    <tr>\n",
              "      <th>0</th>\n",
              "      <td>1</td>\n",
              "      <td>0</td>\n",
              "      <td>3</td>\n",
              "      <td>Braund, Mr. Owen Harris</td>\n",
              "      <td>male</td>\n",
              "      <td>22.0</td>\n",
              "      <td>1</td>\n",
              "      <td>0</td>\n",
              "      <td>A/5 21171</td>\n",
              "      <td>7.2500</td>\n",
              "      <td>NaN</td>\n",
              "      <td>S</td>\n",
              "    </tr>\n",
              "    <tr>\n",
              "      <th>1</th>\n",
              "      <td>2</td>\n",
              "      <td>1</td>\n",
              "      <td>1</td>\n",
              "      <td>Cumings, Mrs. John Bradley (Florence Briggs Th...</td>\n",
              "      <td>female</td>\n",
              "      <td>38.0</td>\n",
              "      <td>1</td>\n",
              "      <td>0</td>\n",
              "      <td>PC 17599</td>\n",
              "      <td>71.2833</td>\n",
              "      <td>C85</td>\n",
              "      <td>C</td>\n",
              "    </tr>\n",
              "    <tr>\n",
              "      <th>2</th>\n",
              "      <td>3</td>\n",
              "      <td>1</td>\n",
              "      <td>3</td>\n",
              "      <td>Heikkinen, Miss. Laina</td>\n",
              "      <td>female</td>\n",
              "      <td>26.0</td>\n",
              "      <td>0</td>\n",
              "      <td>0</td>\n",
              "      <td>STON/O2. 3101282</td>\n",
              "      <td>7.9250</td>\n",
              "      <td>NaN</td>\n",
              "      <td>S</td>\n",
              "    </tr>\n",
              "    <tr>\n",
              "      <th>3</th>\n",
              "      <td>4</td>\n",
              "      <td>1</td>\n",
              "      <td>1</td>\n",
              "      <td>Futrelle, Mrs. Jacques Heath (Lily May Peel)</td>\n",
              "      <td>female</td>\n",
              "      <td>35.0</td>\n",
              "      <td>1</td>\n",
              "      <td>0</td>\n",
              "      <td>113803</td>\n",
              "      <td>53.1000</td>\n",
              "      <td>C123</td>\n",
              "      <td>S</td>\n",
              "    </tr>\n",
              "    <tr>\n",
              "      <th>4</th>\n",
              "      <td>5</td>\n",
              "      <td>0</td>\n",
              "      <td>3</td>\n",
              "      <td>Allen, Mr. William Henry</td>\n",
              "      <td>male</td>\n",
              "      <td>35.0</td>\n",
              "      <td>0</td>\n",
              "      <td>0</td>\n",
              "      <td>373450</td>\n",
              "      <td>8.0500</td>\n",
              "      <td>NaN</td>\n",
              "      <td>S</td>\n",
              "    </tr>\n",
              "  </tbody>\n",
              "</table>\n",
              "</div>\n",
              "    <div class=\"colab-df-buttons\">\n",
              "\n",
              "  <div class=\"colab-df-container\">\n",
              "    <button class=\"colab-df-convert\" onclick=\"convertToInteractive('df-64bbcea1-bfe7-4611-b7cc-84067342fdd5')\"\n",
              "            title=\"Convert this dataframe to an interactive table.\"\n",
              "            style=\"display:none;\">\n",
              "\n",
              "  <svg xmlns=\"http://www.w3.org/2000/svg\" height=\"24px\" viewBox=\"0 -960 960 960\">\n",
              "    <path d=\"M120-120v-720h720v720H120Zm60-500h600v-160H180v160Zm220 220h160v-160H400v160Zm0 220h160v-160H400v160ZM180-400h160v-160H180v160Zm440 0h160v-160H620v160ZM180-180h160v-160H180v160Zm440 0h160v-160H620v160Z\"/>\n",
              "  </svg>\n",
              "    </button>\n",
              "\n",
              "  <style>\n",
              "    .colab-df-container {\n",
              "      display:flex;\n",
              "      gap: 12px;\n",
              "    }\n",
              "\n",
              "    .colab-df-convert {\n",
              "      background-color: #E8F0FE;\n",
              "      border: none;\n",
              "      border-radius: 50%;\n",
              "      cursor: pointer;\n",
              "      display: none;\n",
              "      fill: #1967D2;\n",
              "      height: 32px;\n",
              "      padding: 0 0 0 0;\n",
              "      width: 32px;\n",
              "    }\n",
              "\n",
              "    .colab-df-convert:hover {\n",
              "      background-color: #E2EBFA;\n",
              "      box-shadow: 0px 1px 2px rgba(60, 64, 67, 0.3), 0px 1px 3px 1px rgba(60, 64, 67, 0.15);\n",
              "      fill: #174EA6;\n",
              "    }\n",
              "\n",
              "    .colab-df-buttons div {\n",
              "      margin-bottom: 4px;\n",
              "    }\n",
              "\n",
              "    [theme=dark] .colab-df-convert {\n",
              "      background-color: #3B4455;\n",
              "      fill: #D2E3FC;\n",
              "    }\n",
              "\n",
              "    [theme=dark] .colab-df-convert:hover {\n",
              "      background-color: #434B5C;\n",
              "      box-shadow: 0px 1px 3px 1px rgba(0, 0, 0, 0.15);\n",
              "      filter: drop-shadow(0px 1px 2px rgba(0, 0, 0, 0.3));\n",
              "      fill: #FFFFFF;\n",
              "    }\n",
              "  </style>\n",
              "\n",
              "    <script>\n",
              "      const buttonEl =\n",
              "        document.querySelector('#df-64bbcea1-bfe7-4611-b7cc-84067342fdd5 button.colab-df-convert');\n",
              "      buttonEl.style.display =\n",
              "        google.colab.kernel.accessAllowed ? 'block' : 'none';\n",
              "\n",
              "      async function convertToInteractive(key) {\n",
              "        const element = document.querySelector('#df-64bbcea1-bfe7-4611-b7cc-84067342fdd5');\n",
              "        const dataTable =\n",
              "          await google.colab.kernel.invokeFunction('convertToInteractive',\n",
              "                                                    [key], {});\n",
              "        if (!dataTable) return;\n",
              "\n",
              "        const docLinkHtml = 'Like what you see? Visit the ' +\n",
              "          '<a target=\"_blank\" href=https://colab.research.google.com/notebooks/data_table.ipynb>data table notebook</a>'\n",
              "          + ' to learn more about interactive tables.';\n",
              "        element.innerHTML = '';\n",
              "        dataTable['output_type'] = 'display_data';\n",
              "        await google.colab.output.renderOutput(dataTable, element);\n",
              "        const docLink = document.createElement('div');\n",
              "        docLink.innerHTML = docLinkHtml;\n",
              "        element.appendChild(docLink);\n",
              "      }\n",
              "    </script>\n",
              "  </div>\n",
              "\n",
              "\n",
              "<div id=\"df-cb8d261b-8daa-430a-93e4-94c7249def15\">\n",
              "  <button class=\"colab-df-quickchart\" onclick=\"quickchart('df-cb8d261b-8daa-430a-93e4-94c7249def15')\"\n",
              "            title=\"Suggest charts.\"\n",
              "            style=\"display:none;\">\n",
              "\n",
              "<svg xmlns=\"http://www.w3.org/2000/svg\" height=\"24px\"viewBox=\"0 0 24 24\"\n",
              "     width=\"24px\">\n",
              "    <g>\n",
              "        <path d=\"M19 3H5c-1.1 0-2 .9-2 2v14c0 1.1.9 2 2 2h14c1.1 0 2-.9 2-2V5c0-1.1-.9-2-2-2zM9 17H7v-7h2v7zm4 0h-2V7h2v10zm4 0h-2v-4h2v4z\"/>\n",
              "    </g>\n",
              "</svg>\n",
              "  </button>\n",
              "\n",
              "<style>\n",
              "  .colab-df-quickchart {\n",
              "      --bg-color: #E8F0FE;\n",
              "      --fill-color: #1967D2;\n",
              "      --hover-bg-color: #E2EBFA;\n",
              "      --hover-fill-color: #174EA6;\n",
              "      --disabled-fill-color: #AAA;\n",
              "      --disabled-bg-color: #DDD;\n",
              "  }\n",
              "\n",
              "  [theme=dark] .colab-df-quickchart {\n",
              "      --bg-color: #3B4455;\n",
              "      --fill-color: #D2E3FC;\n",
              "      --hover-bg-color: #434B5C;\n",
              "      --hover-fill-color: #FFFFFF;\n",
              "      --disabled-bg-color: #3B4455;\n",
              "      --disabled-fill-color: #666;\n",
              "  }\n",
              "\n",
              "  .colab-df-quickchart {\n",
              "    background-color: var(--bg-color);\n",
              "    border: none;\n",
              "    border-radius: 50%;\n",
              "    cursor: pointer;\n",
              "    display: none;\n",
              "    fill: var(--fill-color);\n",
              "    height: 32px;\n",
              "    padding: 0;\n",
              "    width: 32px;\n",
              "  }\n",
              "\n",
              "  .colab-df-quickchart:hover {\n",
              "    background-color: var(--hover-bg-color);\n",
              "    box-shadow: 0 1px 2px rgba(60, 64, 67, 0.3), 0 1px 3px 1px rgba(60, 64, 67, 0.15);\n",
              "    fill: var(--button-hover-fill-color);\n",
              "  }\n",
              "\n",
              "  .colab-df-quickchart-complete:disabled,\n",
              "  .colab-df-quickchart-complete:disabled:hover {\n",
              "    background-color: var(--disabled-bg-color);\n",
              "    fill: var(--disabled-fill-color);\n",
              "    box-shadow: none;\n",
              "  }\n",
              "\n",
              "  .colab-df-spinner {\n",
              "    border: 2px solid var(--fill-color);\n",
              "    border-color: transparent;\n",
              "    border-bottom-color: var(--fill-color);\n",
              "    animation:\n",
              "      spin 1s steps(1) infinite;\n",
              "  }\n",
              "\n",
              "  @keyframes spin {\n",
              "    0% {\n",
              "      border-color: transparent;\n",
              "      border-bottom-color: var(--fill-color);\n",
              "      border-left-color: var(--fill-color);\n",
              "    }\n",
              "    20% {\n",
              "      border-color: transparent;\n",
              "      border-left-color: var(--fill-color);\n",
              "      border-top-color: var(--fill-color);\n",
              "    }\n",
              "    30% {\n",
              "      border-color: transparent;\n",
              "      border-left-color: var(--fill-color);\n",
              "      border-top-color: var(--fill-color);\n",
              "      border-right-color: var(--fill-color);\n",
              "    }\n",
              "    40% {\n",
              "      border-color: transparent;\n",
              "      border-right-color: var(--fill-color);\n",
              "      border-top-color: var(--fill-color);\n",
              "    }\n",
              "    60% {\n",
              "      border-color: transparent;\n",
              "      border-right-color: var(--fill-color);\n",
              "    }\n",
              "    80% {\n",
              "      border-color: transparent;\n",
              "      border-right-color: var(--fill-color);\n",
              "      border-bottom-color: var(--fill-color);\n",
              "    }\n",
              "    90% {\n",
              "      border-color: transparent;\n",
              "      border-bottom-color: var(--fill-color);\n",
              "    }\n",
              "  }\n",
              "</style>\n",
              "\n",
              "  <script>\n",
              "    async function quickchart(key) {\n",
              "      const quickchartButtonEl =\n",
              "        document.querySelector('#' + key + ' button');\n",
              "      quickchartButtonEl.disabled = true;  // To prevent multiple clicks.\n",
              "      quickchartButtonEl.classList.add('colab-df-spinner');\n",
              "      try {\n",
              "        const charts = await google.colab.kernel.invokeFunction(\n",
              "            'suggestCharts', [key], {});\n",
              "      } catch (error) {\n",
              "        console.error('Error during call to suggestCharts:', error);\n",
              "      }\n",
              "      quickchartButtonEl.classList.remove('colab-df-spinner');\n",
              "      quickchartButtonEl.classList.add('colab-df-quickchart-complete');\n",
              "    }\n",
              "    (() => {\n",
              "      let quickchartButtonEl =\n",
              "        document.querySelector('#df-cb8d261b-8daa-430a-93e4-94c7249def15 button');\n",
              "      quickchartButtonEl.style.display =\n",
              "        google.colab.kernel.accessAllowed ? 'block' : 'none';\n",
              "    })();\n",
              "  </script>\n",
              "</div>\n",
              "    </div>\n",
              "  </div>\n"
            ]
          },
          "metadata": {},
          "execution_count": 3
        }
      ],
      "source": [
        "data.head(5)\n",
        "\n"
      ]
    },
    {
      "cell_type": "code",
      "source": [
        "ageX=data['Age']\n",
        "embarkedX=data['Embarked']\n",
        "ageX=ageX.fillna(data['Age'].mean())\n",
        "embarkedX.fillna('S')\n",
        "embarkedXD=pd.get_dummies(embarkedX)"
      ],
      "metadata": {
        "id": "VqSPwkLXSIcH"
      },
      "id": "VqSPwkLXSIcH",
      "execution_count": 4,
      "outputs": []
    },
    {
      "cell_type": "code",
      "execution_count": 5,
      "id": "4beeeb25",
      "metadata": {
        "colab": {
          "base_uri": "https://localhost:8080/"
        },
        "id": "4beeeb25",
        "outputId": "4e37b801-2abf-434f-9aab-7e48a4c26861"
      },
      "outputs": [
        {
          "output_type": "execute_result",
          "data": {
            "text/plain": [
              "(891, 9)"
            ]
          },
          "metadata": {},
          "execution_count": 5
        }
      ],
      "source": [
        "data=data.drop(['Age','Cabin','Embarked'],axis=1)\n",
        "data.isnull().sum()\n",
        "data.shape"
      ]
    },
    {
      "cell_type": "code",
      "execution_count": 6,
      "id": "9b1a543c",
      "metadata": {
        "colab": {
          "base_uri": "https://localhost:8080/"
        },
        "id": "9b1a543c",
        "outputId": "dea64024-9c62-489c-dfad-ba4cc23a717e"
      },
      "outputs": [
        {
          "output_type": "execute_result",
          "data": {
            "text/plain": [
              "(891, 5)"
            ]
          },
          "metadata": {},
          "execution_count": 6
        }
      ],
      "source": [
        "train_hd=data.drop(['Survived','PassengerId','Ticket','Name'],axis=1)\n",
        "train_hd.dtypes\n",
        "train_hd.shape"
      ]
    },
    {
      "cell_type": "code",
      "execution_count": 7,
      "id": "9c8cfaf7",
      "metadata": {
        "id": "9c8cfaf7"
      },
      "outputs": [],
      "source": [
        "y=data['Survived']"
      ]
    },
    {
      "cell_type": "code",
      "execution_count": 8,
      "id": "0b9328c3",
      "metadata": {
        "id": "0b9328c3"
      },
      "outputs": [],
      "source": [
        "pclass=pd.get_dummies(train_hd['Pclass'],)\n",
        "sex=pd.get_dummies(train_hd['Sex'])\n",
        "pclass = pclass.set_axis({'P1','P2','P3'}, axis=1)\n"
      ]
    },
    {
      "cell_type": "code",
      "execution_count": 9,
      "id": "4cd4d169",
      "metadata": {
        "id": "4cd4d169"
      },
      "outputs": [],
      "source": [
        "train_hd_temp=train_hd.drop(['Pclass','Sex'],axis=1)"
      ]
    },
    {
      "cell_type": "code",
      "execution_count": 10,
      "id": "77658f26",
      "metadata": {
        "colab": {
          "base_uri": "https://localhost:8080/"
        },
        "id": "77658f26",
        "outputId": "c59c2d44-f870-4717-800d-a7e51efa1d61"
      },
      "outputs": [
        {
          "output_type": "execute_result",
          "data": {
            "text/plain": [
              "0"
            ]
          },
          "metadata": {},
          "execution_count": 10
        }
      ],
      "source": [
        "ageX.isnull().sum()"
      ]
    },
    {
      "cell_type": "code",
      "execution_count": 11,
      "id": "038b994e",
      "metadata": {
        "id": "038b994e"
      },
      "outputs": [],
      "source": [
        "train_hd_new=pd.concat([train_hd_temp,pclass,sex,embarkedXD,ageX],axis=1)"
      ]
    },
    {
      "cell_type": "code",
      "execution_count": 12,
      "id": "51f9af53",
      "metadata": {
        "id": "51f9af53"
      },
      "outputs": [],
      "source": [
        "from sklearn.model_selection import train_test_split"
      ]
    },
    {
      "cell_type": "code",
      "execution_count": 13,
      "id": "e6e16b3f",
      "metadata": {
        "id": "e6e16b3f"
      },
      "outputs": [],
      "source": [
        "X_train,X_test,y_train,y_test=train_test_split(train_hd_new,y,stratify=y,train_size=0.2,random_state=90)\n",
        "#X_train,X_test,y_train,y_test=train_test_split(train_hd_new,y,train_size=0.25,random_state=90)"
      ]
    },
    {
      "cell_type": "code",
      "execution_count": 14,
      "id": "9dc60e04",
      "metadata": {
        "id": "9dc60e04"
      },
      "outputs": [],
      "source": [
        "#lr=LogisticRegression(C=1,max_iter=10000)\n",
        "#lr=LogisticRegression(solver='liblinear',C=1,max_iter=10000)\n",
        "#from sklearn.svm import LinearSVC\n",
        "#lr=LinearSVC()\n",
        "#from sklearn.naive_bayes import GaussianNB\n",
        "#lr=GaussianNB()\n",
        "\n",
        "from sklearn.preprocessing import StandardScaler\n",
        "scaler=StandardScaler()\n",
        "scaler.fit(X_train)\n",
        "scaler.fit(X_test)\n",
        "X_train=scaler.transform(X_train)\n",
        "X_test=scaler.transform(X_test)\n",
        "\n",
        "\n",
        "\n",
        "from sklearn.tree import DecisionTreeClassifier\n",
        "#-----------------------------------------------------------------------\n",
        "from sklearn.ensemble import RandomForestClassifier\n",
        "from sklearn.linear_model import LogisticRegression\n",
        "from sklearn.svm import SVC\n",
        "#-----------------------------------------------------------------------\n",
        "from sklearn.ensemble import VotingClassifier\n",
        "from sklearn.ensemble import BaggingClassifier\n",
        "from sklearn.ensemble import GradientBoostingClassifier\n",
        "from sklearn.neural_network import MLPClassifier\n",
        "\n",
        "\n",
        "\n",
        "gbrt=GradientBoostingClassifier(max_depth=1, learning_rate=0.01,random_state=0).fit(X_train,y_train)\n",
        "\n",
        "dtc=DecisionTreeClassifier().fit(X_train,y_train)\n",
        "log=LogisticRegression(max_iter=1000,solver='lbfgs').fit(X_train,y_train)\n",
        "rnd=RandomForestClassifier(n_estimators=10).fit(X_train,y_train)\n",
        "svm=SVC(gamma='auto').fit(X_train,y_train)\n",
        "\n",
        "bag=BaggingClassifier(dtc,n_estimators=10,max_samples=0.8,n_jobs=-1,random_state=1).fit(X_train,y_train)\n",
        "\n",
        "mlp=MLPClassifier(hidden_layer_sizes=[10],max_iter=1000,random_state=0).fit(X_train,y_train)\n",
        "\n",
        "voting=VotingClassifier(estimators=[('lr',log),('rf',rnd),('svc',svm)],voting='hard').fit(X_train,y_train)\n",
        "voting2=VotingClassifier(estimators=[('lr',log),('rf',rnd),('BG',bag)],voting='hard').fit(X_train,y_train)\n",
        "voting3=VotingClassifier(estimators=[('GB',gbrt),('rf',rnd),('BG',bag)],voting='hard').fit(X_train,y_train)\n",
        "voting4=VotingClassifier(estimators=[('lr',log),('GB',gbrt),('rf',rnd),('BG',bag)],voting='hard').fit(X_train,y_train)\n",
        "voting5=VotingClassifier(estimators=[('MLP',mlp),('lr',log),('GB',gbrt),('rf',rnd),('BG',bag)],voting='hard').fit(X_train,y_train)\n",
        "\n",
        "voting6=VotingClassifier(estimators=[('svc',svm),('lr',log),('GB',gbrt),('rf',rnd),('BG',bag)],voting='hard').fit(X_train,y_train)\n",
        "\n"
      ]
    },
    {
      "cell_type": "code",
      "execution_count": 15,
      "id": "79d85f8c",
      "metadata": {
        "colab": {
          "base_uri": "https://localhost:8080/"
        },
        "id": "79d85f8c",
        "outputId": "6ca9bf60-b75c-477a-e9e0-195b94a8516e"
      },
      "outputs": [
        {
          "output_type": "stream",
          "name": "stdout",
          "text": [
            "DecisionTreeClassifier training performance is 1.0\n",
            "DecisionTreeClassifier test performance is 0.718\n",
            "------------------------------------------------------------\n",
            "BaggingClassifier training performance is 0.966\n",
            "BaggingClassifier test performance is 0.75\n",
            "------------------------------------------------------------\n",
            "LogisticRegression traing performance is 0.854\n",
            "LogisticRegression test performance is 0.776\n",
            "------------------------------------------------------------\n",
            "RandomForestClassifier traing performance is 1.0\n",
            "RandomForestClassifier test performance is 0.763\n",
            "------------------------------------------------------------\n",
            "SVC traing performance is 0.854\n",
            "SVC test performance is 0.769\n",
            "------------------------------------------------------------\n",
            "GradientBoostingClassifier traing performance is 0.837\n",
            "GradientBoostingClassifier test performance is 0.774\n",
            "------------------------------------------------------------\n",
            "MLPClassifier traing performance is 0.893\n",
            "MLPClassifier test performance is 0.777\n"
          ]
        }
      ],
      "source": [
        "\n",
        "\n",
        "dtc_train_perf=dtc.score(X_train,y_train).round(3)\n",
        "dtc_test_perf=dtc.score(X_test,y_test).round(3)\n",
        "\n",
        "bag_train_perf=bag.score(X_train,y_train).round(3)\n",
        "bag_test_perf=bag.score(X_test,y_test).round(3)\n",
        "\n",
        "\n",
        "log_train_perf=log.score(X_train,y_train).round(3)\n",
        "log_test_perf=log.score(X_test,y_test).round(3)\n",
        "\n",
        "rnd_train_perf=rnd.score(X_train,y_train).round(3)\n",
        "rnd_test_perf=rnd.score(X_test,y_test).round(3)\n",
        "\n",
        "svm_train_perf=svm.score(X_train,y_train).round(3)\n",
        "svm_test_perf=svm.score(X_test,y_test).round(3)\n",
        "\n",
        "\n",
        "gbrt_train_perf=gbrt.score(X_train,y_train).round(3)\n",
        "gbrt_test_perf=gbrt.score(X_test,y_test).round(3)\n",
        "\n",
        "mlp_train_perf=mlp.score(X_train,y_train).round(3)\n",
        "mlp_test_perf=mlp.score(X_test,y_test).round(3)\n",
        "\n",
        "voting_train_perf=voting.score(X_train,y_train).round(3)\n",
        "voting_test_perf=voting.score(X_test,y_test).round(3)\n",
        "\n",
        "voting2_train_perf=voting2.score(X_train,y_train).round(3)\n",
        "voting2_test_perf=voting2.score(X_test,y_test).round(3)\n",
        "\n",
        "voting3_train_perf=voting3.score(X_train,y_train).round(3)\n",
        "voting3_test_perf=voting3.score(X_test,y_test).round(3)\n",
        "\n",
        "voting4_train_perf=voting4.score(X_train,y_train).round(3)\n",
        "voting4_test_perf=voting4.score(X_test,y_test).round(3)\n",
        "\n",
        "voting5_train_perf=voting5.score(X_train,y_train).round(3)\n",
        "voting5_test_perf=voting5.score(X_test,y_test).round(3)\n",
        "\n",
        "voting6_train_perf=voting6.score(X_train,y_train).round(3)\n",
        "voting6_test_perf=voting6.score(X_test,y_test).round(3)\n",
        "\n",
        "print('DecisionTreeClassifier training performance is',dtc_train_perf)\n",
        "print('DecisionTreeClassifier test performance is',dtc_test_perf)\n",
        "print('------------------------------------------------------------')\n",
        "print('BaggingClassifier training performance is',bag_train_perf)\n",
        "print('BaggingClassifier test performance is',bag_test_perf)\n",
        "print('------------------------------------------------------------')\n",
        "print('LogisticRegression traing performance is',log_train_perf)\n",
        "print('LogisticRegression test performance is',log_test_perf)\n",
        "print('------------------------------------------------------------')\n",
        "print('RandomForestClassifier traing performance is',rnd_train_perf)\n",
        "print('RandomForestClassifier test performance is',rnd_test_perf)\n",
        "print('------------------------------------------------------------')\n",
        "print('SVC traing performance is',svm_train_perf)\n",
        "print('SVC test performance is',svm_test_perf)\n",
        "print('------------------------------------------------------------')\n",
        "print('GradientBoostingClassifier traing performance is',gbrt_train_perf)\n",
        "print('GradientBoostingClassifier test performance is',gbrt_test_perf)\n",
        "print('------------------------------------------------------------')\n",
        "print('MLPClassifier traing performance is',mlp_train_perf)\n",
        "print('MLPClassifier test performance is',mlp_test_perf)\n"
      ]
    },
    {
      "cell_type": "code",
      "execution_count": 16,
      "id": "194c65c0",
      "metadata": {
        "colab": {
          "base_uri": "https://localhost:8080/"
        },
        "id": "194c65c0",
        "outputId": "b8c45657-5ab4-48a3-de52-b89c25c74e99"
      },
      "outputs": [
        {
          "output_type": "stream",
          "name": "stdout",
          "text": [
            "------------------------------------------------------------\n",
            "Voting(LR-RND-SVM) traing performance is 0.854\n",
            "Voting(LR-RND-SVM) test performance is 0.769\n",
            "------------------------------------------------------------\n",
            "Voting(LR-RND-BG)  traing performance is 0.955\n",
            "Voting(LR-RND-BG)  test performance is 0.787\n",
            "------------------------------------------------------------\n",
            "Voting(BG-RND-GBRT)  traing performance is 0.961\n",
            "Voting(BG-RND-GBRT)  test performance is 0.771\n",
            "------------------------------------------------------------\n",
            "Voting(LR-BG-RND-GBRT)  traing performance is 0.899\n",
            "Voting(LR-BG-RND-GBRT)  test performance is 0.781\n",
            "------------------------------------------------------------\n",
            "Voting(MLP-LR-BG-RND-GBRT)  traing performance is 0.899\n",
            "Voting(MLP-LR-BG-RND-GBRT)  test performance is 0.79\n",
            "------------------------------------------------------------\n",
            "Voting(SVC-LR-BG-RND-GBRT)  traing performance is 0.86\n",
            "Voting(SVC-LR-BG-RND-GBRT)  test performance is 0.773\n",
            "------------------------------------------------------------\n"
          ]
        }
      ],
      "source": [
        "print('------------------------------------------------------------')\n",
        "print('Voting(LR-RND-SVM) traing performance is',voting_train_perf)\n",
        "print('Voting(LR-RND-SVM) test performance is',voting_test_perf)\n",
        "print('------------------------------------------------------------')\n",
        "print('Voting(LR-RND-BG)  traing performance is',voting2_train_perf)\n",
        "print('Voting(LR-RND-BG)  test performance is',voting2_test_perf)\n",
        "print('------------------------------------------------------------')\n",
        "print('Voting(BG-RND-GBRT)  traing performance is',voting3_train_perf)\n",
        "print('Voting(BG-RND-GBRT)  test performance is',voting3_test_perf)\n",
        "print('------------------------------------------------------------')\n",
        "print('Voting(LR-BG-RND-GBRT)  traing performance is',voting4_train_perf)\n",
        "print('Voting(LR-BG-RND-GBRT)  test performance is',voting4_test_perf)\n",
        "print('------------------------------------------------------------')\n",
        "print('Voting(MLP-LR-BG-RND-GBRT)  traing performance is',voting5_train_perf)\n",
        "print('Voting(MLP-LR-BG-RND-GBRT)  test performance is',voting5_test_perf)\n",
        "print('------------------------------------------------------------')\n",
        "print('Voting(SVC-LR-BG-RND-GBRT)  traing performance is',voting6_train_perf)\n",
        "print('Voting(SVC-LR-BG-RND-GBRT)  test performance is',voting6_test_perf)\n",
        "print('------------------------------------------------------------')"
      ]
    },
    {
      "cell_type": "code",
      "execution_count": 16,
      "id": "9baf68c2",
      "metadata": {
        "id": "9baf68c2"
      },
      "outputs": [],
      "source": []
    },
    {
      "cell_type": "code",
      "execution_count": 16,
      "id": "2fc9e2fc",
      "metadata": {
        "id": "2fc9e2fc"
      },
      "outputs": [],
      "source": []
    }
  ],
  "metadata": {
    "kernelspec": {
      "display_name": "Python 3.10.2 64-bit",
      "language": "python",
      "name": "python3"
    },
    "language_info": {
      "codemirror_mode": {
        "name": "ipython",
        "version": 3
      },
      "file_extension": ".py",
      "mimetype": "text/x-python",
      "name": "python",
      "nbconvert_exporter": "python",
      "pygments_lexer": "ipython3",
      "version": "3.10.5"
    },
    "vscode": {
      "interpreter": {
        "hash": "369f2c481f4da34e4445cda3fffd2e751bd1c4d706f27375911949ba6bb62e1c"
      }
    },
    "colab": {
      "provenance": [],
      "include_colab_link": true
    }
  },
  "nbformat": 4,
  "nbformat_minor": 5
}