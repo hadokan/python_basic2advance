{
  "nbformat": 4,
  "nbformat_minor": 0,
  "metadata": {
    "colab": {
      "provenance": [],
      "authorship_tag": "ABX9TyOietdTVo7jp2A7XIfx38+U",
      "include_colab_link": true
    },
    "kernelspec": {
      "name": "python3",
      "display_name": "Python 3"
    },
    "language_info": {
      "name": "python"
    }
  },
  "cells": [
    {
      "cell_type": "markdown",
      "metadata": {
        "id": "view-in-github",
        "colab_type": "text"
      },
      "source": [
        "<a href=\"https://colab.research.google.com/github/hadokan/python_basics/blob/main/python_numpy_files.ipynb\" target=\"_parent\"><img src=\"https://colab.research.google.com/assets/colab-badge.svg\" alt=\"Open In Colab\"/></a>"
      ]
    },
    {
      "cell_type": "code",
      "execution_count": 3,
      "metadata": {
        "id": "k6VSLHA9W_xL"
      },
      "outputs": [],
      "source": [
        "import numpy as np\n",
        "\n",
        "arrayX = np.array([[1,2, 3, 4],\n",
        "                  [5,7, 11, 12]])\n",
        "\n",
        "# save the array to a file\n",
        "np.save('fileX.npy', arrayX)"
      ]
    },
    {
      "cell_type": "code",
      "source": [
        "\n",
        "import os\n",
        "print(os.getcwd())\n",
        "os.listdir()"
      ],
      "metadata": {
        "colab": {
          "base_uri": "https://localhost:8080/"
        },
        "id": "eH0RbUptXQJ3",
        "outputId": "7f67eda5-7f8f-4320-a78b-24b7b2f0b720"
      },
      "execution_count": 4,
      "outputs": [
        {
          "output_type": "stream",
          "name": "stdout",
          "text": [
            "/content\n"
          ]
        },
        {
          "output_type": "execute_result",
          "data": {
            "text/plain": [
              "['.config', 'file1.npy', 'fileX.npy', 'sample_data']"
            ]
          },
          "metadata": {},
          "execution_count": 4
        }
      ]
    },
    {
      "cell_type": "code",
      "source": [
        "# load the saved NumPy array\n",
        "loaded_arrayX = np.load('fileX.npy')\n",
        "\n",
        "# display the loaded array\n",
        "print(loaded_arrayX)"
      ],
      "metadata": {
        "colab": {
          "base_uri": "https://localhost:8080/"
        },
        "id": "hMQHTNt8XRWx",
        "outputId": "32a0d1ed-506d-4e31-8389-820e495ab7da"
      },
      "execution_count": 5,
      "outputs": [
        {
          "output_type": "stream",
          "name": "stdout",
          "text": [
            "[[ 1  2  3  4]\n",
            " [ 5  7 11 12]]\n"
          ]
        }
      ]
    },
    {
      "cell_type": "code",
      "source": [
        "import numpy as np\n",
        "\n",
        "# create two NumPy arrays\n",
        "arrayA = np.array([0, 2, 4])\n",
        "arrayB = np.array([1, 3, 5])\n",
        "\n",
        "# save the two arrays into a single file\n",
        "np.savez('fileAB.npz', file1 = arrayA, file2 = arrayB)"
      ],
      "metadata": {
        "id": "73cwzHq9Xd6e"
      },
      "execution_count": 6,
      "outputs": []
    },
    {
      "cell_type": "code",
      "source": [
        "# load the saved arrays\n",
        "load_dataX = np.load('fileAB.npz')\n",
        "\n",
        "# retrieve the arrays using their names\n",
        "arrayAe = load_dataX['file1']\n",
        "arrayBe = load_dataX['file2']\n",
        "\n",
        "# display the loaded arrays\n",
        "print(arrayAe)\n",
        "print(arrayBe)"
      ],
      "metadata": {
        "colab": {
          "base_uri": "https://localhost:8080/"
        },
        "id": "1MRvW-ClYDFR",
        "outputId": "1850d6a7-a93a-4e4c-8eb9-9f74ef704fb2"
      },
      "execution_count": 8,
      "outputs": [
        {
          "output_type": "stream",
          "name": "stdout",
          "text": [
            "[0 2 4]\n",
            "[1 3 5]\n"
          ]
        }
      ]
    },
    {
      "cell_type": "code",
      "source": [
        "import numpy as np\n",
        "\n",
        "# get the current date and time\n",
        "result = np.datetime64('now')\n",
        "\n",
        "print(\"Current date and time:\")\n",
        "print(result)"
      ],
      "metadata": {
        "colab": {
          "base_uri": "https://localhost:8080/"
        },
        "id": "X_YrUqDKaDxV",
        "outputId": "a2c23d68-4375-4819-da83-bca8cd80680a"
      },
      "execution_count": 9,
      "outputs": [
        {
          "output_type": "stream",
          "name": "stdout",
          "text": [
            "Current date and time:\n",
            "2023-08-17T12:10:52\n"
          ]
        }
      ]
    },
    {
      "cell_type": "code",
      "source": [
        "date_today = np.datetime64('today', 'D')\n",
        "\n",
        "print(\"Date:\",date_today)\n"
      ],
      "metadata": {
        "colab": {
          "base_uri": "https://localhost:8080/"
        },
        "id": "7NVZ1kWDaSuf",
        "outputId": "d56bf245-d075-4c9e-9470-1d6d7e6d74e3"
      },
      "execution_count": 12,
      "outputs": [
        {
          "output_type": "stream",
          "name": "stdout",
          "text": [
            "Date: 2023-08-17\n"
          ]
        }
      ]
    },
    {
      "cell_type": "code",
      "source": [
        "import numpy as np\n",
        "from datetime import datetime\n",
        "\n",
        "# create a datetime64 object\n",
        "#dt64 = np.datetime64('2023-01-30x09:11:12')\n",
        "#ValueError: Error parsing datetime string \"2023-01-30x09:11:12\" at position 10\n",
        "dt64 = np.datetime64('2023-01-30T09:11:12')\n",
        "\n",
        "# convert datetime64 to datetime object\n",
        "dt = dt64.astype(datetime)\n",
        "\n",
        "# print the datetime object\n",
        "print(dt)"
      ],
      "metadata": {
        "colab": {
          "base_uri": "https://localhost:8080/"
        },
        "id": "-AaTnQ8Xa26z",
        "outputId": "81a580d8-5600-4dd8-c5ef-01672f95bf15"
      },
      "execution_count": 16,
      "outputs": [
        {
          "output_type": "stream",
          "name": "stdout",
          "text": [
            "2023-01-30 09:11:12\n"
          ]
        }
      ]
    },
    {
      "cell_type": "code",
      "source": [
        "import numpy as np\n",
        "\n",
        "# create a range of dates from 2023-01-01 to 2023-03-01\n",
        "dates = np.arange('2023-01-01', '2023-03-02', dtype='datetime64[D]')\n",
        "\n",
        "# print the dates\n",
        "print(dates)"
      ],
      "metadata": {
        "colab": {
          "base_uri": "https://localhost:8080/"
        },
        "id": "PI8gvi5IbNoA",
        "outputId": "1c1b58a7-702d-44d4-fb29-ed6f9fb14523"
      },
      "execution_count": 19,
      "outputs": [
        {
          "output_type": "stream",
          "name": "stdout",
          "text": [
            "['2023-01-01' '2023-01-02' '2023-01-03' '2023-01-04' '2023-01-05'\n",
            " '2023-01-06' '2023-01-07' '2023-01-08' '2023-01-09' '2023-01-10'\n",
            " '2023-01-11' '2023-01-12' '2023-01-13' '2023-01-14' '2023-01-15'\n",
            " '2023-01-16' '2023-01-17' '2023-01-18' '2023-01-19' '2023-01-20'\n",
            " '2023-01-21' '2023-01-22' '2023-01-23' '2023-01-24' '2023-01-25'\n",
            " '2023-01-26' '2023-01-27' '2023-01-28' '2023-01-29' '2023-01-30'\n",
            " '2023-01-31' '2023-02-01' '2023-02-02' '2023-02-03' '2023-02-04'\n",
            " '2023-02-05' '2023-02-06' '2023-02-07' '2023-02-08' '2023-02-09'\n",
            " '2023-02-10' '2023-02-11' '2023-02-12' '2023-02-13' '2023-02-14'\n",
            " '2023-02-15' '2023-02-16' '2023-02-17' '2023-02-18' '2023-02-19'\n",
            " '2023-02-20' '2023-02-21' '2023-02-22' '2023-02-23' '2023-02-24'\n",
            " '2023-02-25' '2023-02-26' '2023-02-27' '2023-02-28' '2023-03-01']\n"
          ]
        }
      ]
    },
    {
      "cell_type": "code",
      "source": [
        "import numpy as np\n",
        "\n",
        "# today\n",
        "today = np.datetime64('today')\n",
        "\n",
        "# add tree day to today's date\n",
        "todayp3 = today + np.timedelta64(3, 'D')\n",
        "\n",
        "# create datetime64 objects for two dates\n",
        "date1 = np.datetime64('2023-01-10')\n",
        "date2 = np.datetime64('2023-01-15')\n",
        "\n",
        "# calculate the number of days between the two dates\n",
        "num_days = date2 - date1\n",
        "\n",
        "# display the results\n",
        "print(\"Today's date:\", today)\n",
        "print(\"After three days later:\", todayp3)\n",
        "print(\"Number of days between\", date1, \"and\", date2, \"is\", num_days)"
      ],
      "metadata": {
        "colab": {
          "base_uri": "https://localhost:8080/"
        },
        "id": "zKlTxo6wblav",
        "outputId": "4091d918-a2c9-4ac0-c33a-83f00d804ea0"
      },
      "execution_count": 22,
      "outputs": [
        {
          "output_type": "stream",
          "name": "stdout",
          "text": [
            "Today's date: 2023-08-17\n",
            "After three days later: 2023-08-20\n",
            "Number of days between 2023-01-10 and 2023-01-15 is 5 days\n"
          ]
        }
      ]
    },
    {
      "cell_type": "code",
      "source": [
        "import numpy as np\n",
        "\n",
        "# Define Two dates\n",
        "dateA = np.datetime64('2023-01-01')\n",
        "dateB = np.datetime64('2023-01-13')\n",
        "\n",
        "# calculate the number of business days between the two dates\n",
        "totalnumberof_bdays = np.busday_count(dateB, dateA)\n",
        "\n",
        "# show result\n",
        "print(\"Number of business days between\", dateA, \"and\", dateB, \"is\", totalnumberof_bdays)"
      ],
      "metadata": {
        "colab": {
          "base_uri": "https://localhost:8080/"
        },
        "id": "DnjjLNelcmqY",
        "outputId": "72e65f99-c15e-49d9-c7c5-cd0eabbeb619"
      },
      "execution_count": 24,
      "outputs": [
        {
          "output_type": "stream",
          "name": "stdout",
          "text": [
            "Number of business days between 2023-01-01 and 2023-01-13 is -9\n"
          ]
        }
      ]
    }
  ]
}