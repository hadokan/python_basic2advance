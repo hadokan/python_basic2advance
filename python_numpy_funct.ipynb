{
  "nbformat": 4,
  "nbformat_minor": 0,
  "metadata": {
    "colab": {
      "provenance": [],
      "authorship_tag": "ABX9TyOr13klqH99Eex5LFK+jDue",
      "include_colab_link": true
    },
    "kernelspec": {
      "name": "python3",
      "display_name": "Python 3"
    },
    "language_info": {
      "name": "python"
    }
  },
  "cells": [
    {
      "cell_type": "markdown",
      "metadata": {
        "id": "view-in-github",
        "colab_type": "text"
      },
      "source": [
        "<a href=\"https://colab.research.google.com/github/hadokan/python_basics/blob/main/python_numpy_funct.ipynb\" target=\"_parent\"><img src=\"https://colab.research.google.com/assets/colab-badge.svg\" alt=\"Open In Colab\"/></a>"
      ]
    },
    {
      "cell_type": "code",
      "execution_count": null,
      "metadata": {
        "id": "kv0TPib0JyHM"
      },
      "outputs": [],
      "source": [
        "import numpy as np\n",
        "\n",
        "# Let we have a NumPy array\n",
        "arrayZ1 = np.array([[1, 2, 4],\n",
        "                   [0, 3, 0]])\n",
        "\n",
        "arrayZ2 = np.array([[0, 1, 0],\n",
        "                   [2, 0, 3]])\n",
        "\n",
        "# save the array to a file\n",
        "np.save('fileZ.npy', arrayZ1)\n",
        "\n",
        "# save the array to a file\n",
        "np.savetxt('fileZ.txt', arrayZ2)"
      ]
    },
    {
      "cell_type": "code",
      "source": [
        "import numpy as np\n",
        "# load the saved NumPy array\n",
        "load_arrayZ1 = np.load('fileZ.npy')\n",
        "\n",
        "# display the loaded array\n",
        "print(load_arrayZ1)\n",
        "\n",
        "# load the saved NumPy array\n",
        "loaded_arrayZ2 = np.loadtxt('fileZ.txt')\n",
        "\n",
        "# display the loaded array\n",
        "print(loaded_arrayZ2)\n",
        "\n"
      ],
      "metadata": {
        "colab": {
          "base_uri": "https://localhost:8080/"
        },
        "id": "iF7CnGlpVNTh",
        "outputId": "db461cfb-b4c9-41d3-f5f8-10a7f8bfb848"
      },
      "execution_count": null,
      "outputs": [
        {
          "output_type": "stream",
          "name": "stdout",
          "text": [
            "[[1 2 4]\n",
            " [0 3 0]]\n",
            "[[0. 1. 0.]\n",
            " [2. 0. 3.]]\n"
          ]
        }
      ]
    },
    {
      "cell_type": "code",
      "source": [
        "import os\n",
        "print(os.getcwd())\n",
        "os.listdir()"
      ],
      "metadata": {
        "colab": {
          "base_uri": "https://localhost:8080/"
        },
        "id": "I8TPbEKRji_A",
        "outputId": "a4aa2acd-e1de-4dc2-dd30-18cc0cbfb679"
      },
      "execution_count": 1,
      "outputs": [
        {
          "output_type": "stream",
          "name": "stdout",
          "text": [
            "/content\n"
          ]
        },
        {
          "output_type": "execute_result",
          "data": {
            "text/plain": [
              "['.config', 'sample_data']"
            ]
          },
          "metadata": {},
          "execution_count": 1
        }
      ]
    },
    {
      "cell_type": "code",
      "source": [
        "\n",
        "# Write line to file\n",
        "with open('/content/Example2.txt', 'w') as writefile:\n",
        "    writefile.write(\"This is line A\")"
      ],
      "metadata": {
        "id": "oN1GG8Kfjrp4"
      },
      "execution_count": null,
      "outputs": []
    },
    {
      "cell_type": "code",
      "source": [
        "import numpy as np\n",
        "\n",
        "# Random integer from 0 to 99\n",
        "random_intergers = np.random.randint(0, 100)\n",
        "\n",
        "print(random_intergers)\n",
        "\n",
        "# Random float-point number between 0 and 1\n",
        "random_bwt01 = np.random.rand()\n",
        "\n",
        "print(random_bwt01)\n"
      ],
      "metadata": {
        "colab": {
          "base_uri": "https://localhost:8080/"
        },
        "id": "7OW0KCJgPKGf",
        "outputId": "dee4edb9-7ed5-4cbd-8356-e1b007aa0593"
      },
      "execution_count": 4,
      "outputs": [
        {
          "output_type": "stream",
          "name": "stdout",
          "text": [
            "22\n",
            "0.8169063876896235\n"
          ]
        }
      ]
    },
    {
      "cell_type": "code",
      "source": [
        "import numpy as np\n",
        "\n",
        "# An array of 11 random integers between 0 and 100\n",
        "random_integer_array = np.random.randint(0, 100, 11)\n",
        "\n",
        "print(\"Random Integer Array:\\n\",random_integer_array)\n",
        "\n",
        "# An array of 5 random numbers between 0 and 1\n",
        "random_float_array = np.random.rand(5)\n",
        "\n",
        "print(\"\\n1D Random Float Array:\\n\",random_float_array)\n",
        "\n",
        "# 2D array of shape (5, 3) with random integers\n",
        "result = np.random.randint(0, 10, (5,3))\n",
        "\n",
        "print(\"\\n2D Random Integer Array:\\n\",result)"
      ],
      "metadata": {
        "colab": {
          "base_uri": "https://localhost:8080/"
        },
        "id": "iNf8PF8vPynb",
        "outputId": "c8a7cf6e-287d-44ec-9ec2-3e8096fa98ea"
      },
      "execution_count": 5,
      "outputs": [
        {
          "output_type": "stream",
          "name": "stdout",
          "text": [
            "Random Integer Array:\n",
            " [97 90 60 37 60 45 10 30 67 25 85]\n",
            "\n",
            "1D Random Float Array:\n",
            " [0.22936609 0.76193708 0.73652608 0.85224577 0.66975883]\n",
            "\n",
            "2D Random Integer Array:\n",
            " [[6 7 1]\n",
            " [5 4 5]\n",
            " [2 0 0]\n",
            " [2 1 5]\n",
            " [3 6 8]]\n"
          ]
        }
      ]
    },
    {
      "cell_type": "code",
      "source": [
        "import numpy as np\n",
        "\n",
        "# An array of integers from 0 to 9\n",
        "arrayX = np.array([0,1,2,3,4,5,6,7,8,9])\n",
        "\n",
        "# choose a random number from arrayX\n",
        "random_choice = np.random.choice(arrayX)\n",
        "\n",
        "print(random_choice)"
      ],
      "metadata": {
        "colab": {
          "base_uri": "https://localhost:8080/"
        },
        "id": "_lcmpFiMQXze",
        "outputId": "81acf2bd-26ce-46d7-9dfd-97ad76b30d1b"
      },
      "execution_count": 7,
      "outputs": [
        {
          "output_type": "stream",
          "name": "stdout",
          "text": [
            "7\n"
          ]
        }
      ]
    }
  ]
}