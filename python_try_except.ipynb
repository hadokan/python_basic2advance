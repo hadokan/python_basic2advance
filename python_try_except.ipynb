{
  "nbformat": 4,
  "nbformat_minor": 0,
  "metadata": {
    "colab": {
      "provenance": [],
      "authorship_tag": "ABX9TyMmT9iCWADQAUT1Xc/3qqWP",
      "include_colab_link": true
    },
    "kernelspec": {
      "name": "python3",
      "display_name": "Python 3"
    },
    "language_info": {
      "name": "python"
    }
  },
  "cells": [
    {
      "cell_type": "markdown",
      "metadata": {
        "id": "view-in-github",
        "colab_type": "text"
      },
      "source": [
        "<a href=\"https://colab.research.google.com/github/hadokan/python_basics/blob/main/python_try_except.ipynb\" target=\"_parent\"><img src=\"https://colab.research.google.com/assets/colab-badge.svg\" alt=\"Open In Colab\"/></a>"
      ]
    },
    {
      "cell_type": "code",
      "execution_count": 10,
      "metadata": {
        "colab": {
          "base_uri": "https://localhost:8080/"
        },
        "id": "mW7sRPq-swL1",
        "outputId": "8cda2080-18b5-4b97-daad-546e94240370"
      },
      "outputs": [
        {
          "output_type": "stream",
          "name": "stdout",
          "text": [
            "Please check the denominator (it cannot be 0)\n"
          ]
        }
      ],
      "source": [
        "try:\n",
        "    numerator = 99\n",
        "    denominator = 0\n",
        "    result = numerator/denominator\n",
        "\n",
        "    print(result)\n",
        "except:\n",
        "    print(\"Please check the denominator (it cannot be 0)\")\n"
      ]
    },
    {
      "cell_type": "code",
      "source": [
        "try:\n",
        "    numbers = [0,1,2,3,4]\n",
        "    #print(numbers[8])\n",
        "    print(numbers[1]/numbers[0])\n",
        "\n",
        "except ZeroDivisionError:\n",
        "    print(\"Please check the denominator (it cannot be 0).\")\n",
        "\n",
        "except IndexError:\n",
        "    print(\"Check index (Out of Bound)\")\n",
        "\n",
        "# Output: Index Out of Bound"
      ],
      "metadata": {
        "colab": {
          "base_uri": "https://localhost:8080/"
        },
        "id": "hGDAI1tKtK_q",
        "outputId": "593e1929-2307-46ee-dde9-c0822df30eee"
      },
      "execution_count": 11,
      "outputs": [
        {
          "output_type": "stream",
          "name": "stdout",
          "text": [
            "Please check the denominator (it cannot be 0).\n"
          ]
        }
      ]
    },
    {
      "cell_type": "code",
      "source": [
        "# convert number to odd number if it is even number\n",
        "\n",
        "try:\n",
        "    num = int(input(\"Enter a number: \"))\n",
        "    assert num % 2 == 0\n",
        "except:\n",
        "    print(\"Not an even number!\")\n",
        "else:\n",
        "    num_odd = num+1\n",
        "    print('Input is converted.')\n",
        "    print(num_odd)"
      ],
      "metadata": {
        "colab": {
          "base_uri": "https://localhost:8080/"
        },
        "id": "hBJjb_6zu1h9",
        "outputId": "06f4a29a-c467-4faf-8be4-2f101306b429"
      },
      "execution_count": 12,
      "outputs": [
        {
          "output_type": "stream",
          "name": "stdout",
          "text": [
            "Enter a number: 6\n",
            "Input is converted.\n",
            "7\n"
          ]
        }
      ]
    },
    {
      "cell_type": "code",
      "source": [
        "try:\n",
        "    numerator = 10\n",
        "    denominator = 0\n",
        "\n",
        "    result = numerator/denominator\n",
        "\n",
        "    print(result)\n",
        "except:\n",
        "    print(\"Error: Denominator cannot be 0.\")\n",
        "\n",
        "finally:\n",
        "    print(\"Enter first number to sum\")\n",
        "    x=int(input())\n",
        "    print(\"Enter second number to sum\")\n",
        "    y=int(input())\n",
        "    print('The sum is', x+y)\n",
        "    print(\"This part processed everytime.\")"
      ],
      "metadata": {
        "id": "lD4RBq2zvHFd",
        "colab": {
          "base_uri": "https://localhost:8080/"
        },
        "outputId": "7d83358a-d14c-4806-d1b6-32886e86c37c"
      },
      "execution_count": 13,
      "outputs": [
        {
          "output_type": "stream",
          "name": "stdout",
          "text": [
            "Error: Denominator cannot be 0.\n",
            "Enter first number to sum\n",
            "7\n",
            "Enter second number to sum\n",
            "6\n",
            "The sum is 13\n",
            "This part processed everytime.\n"
          ]
        }
      ]
    }
  ]
}