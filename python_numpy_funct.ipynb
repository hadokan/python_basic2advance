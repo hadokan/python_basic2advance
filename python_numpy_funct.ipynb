{
  "nbformat": 4,
  "nbformat_minor": 0,
  "metadata": {
    "colab": {
      "provenance": [],
      "authorship_tag": "ABX9TyMF/Qo5PA5gYS3bKf/tX9ld",
      "include_colab_link": true
    },
    "kernelspec": {
      "name": "python3",
      "display_name": "Python 3"
    },
    "language_info": {
      "name": "python"
    }
  },
  "cells": [
    {
      "cell_type": "markdown",
      "metadata": {
        "id": "view-in-github",
        "colab_type": "text"
      },
      "source": [
        "<a href=\"https://colab.research.google.com/github/hadokan/python_basics/blob/main/python_numpy_funct.ipynb\" target=\"_parent\"><img src=\"https://colab.research.google.com/assets/colab-badge.svg\" alt=\"Open In Colab\"/></a>"
      ]
    },
    {
      "cell_type": "code",
      "execution_count": null,
      "metadata": {
        "id": "kv0TPib0JyHM"
      },
      "outputs": [],
      "source": [
        "import numpy as np\n",
        "\n",
        "# Let we have a NumPy array\n",
        "arrayZ1 = np.array([[1, 2, 4],\n",
        "                   [0, 3, 0]])\n",
        "\n",
        "arrayZ2 = np.array([[0, 1, 0],\n",
        "                   [2, 0, 3]])\n",
        "\n",
        "# save the array to a file\n",
        "np.save('fileZ.npy', arrayZ1)\n",
        "\n",
        "# save the array to a file\n",
        "np.savetxt('fileZ.txt', arrayZ2)"
      ]
    },
    {
      "cell_type": "code",
      "source": [
        "import numpy as np\n",
        "# load the saved NumPy array\n",
        "load_arrayZ1 = np.load('fileZ.npy')\n",
        "\n",
        "# display the loaded array\n",
        "print(load_arrayZ1)\n",
        "\n",
        "# load the saved NumPy array\n",
        "loaded_arrayZ2 = np.loadtxt('fileZ.txt')\n",
        "\n",
        "# display the loaded array\n",
        "print(loaded_arrayZ2)\n",
        "\n"
      ],
      "metadata": {
        "colab": {
          "base_uri": "https://localhost:8080/"
        },
        "id": "iF7CnGlpVNTh",
        "outputId": "db461cfb-b4c9-41d3-f5f8-10a7f8bfb848"
      },
      "execution_count": null,
      "outputs": [
        {
          "output_type": "stream",
          "name": "stdout",
          "text": [
            "[[1 2 4]\n",
            " [0 3 0]]\n",
            "[[0. 1. 0.]\n",
            " [2. 0. 3.]]\n"
          ]
        }
      ]
    },
    {
      "cell_type": "code",
      "source": [
        "import os\n",
        "print(os.getcwd())\n",
        "os.listdir()"
      ],
      "metadata": {
        "colab": {
          "base_uri": "https://localhost:8080/"
        },
        "id": "I8TPbEKRji_A",
        "outputId": "8bbb3428-5185-437b-94e4-d3dd9df2d10a"
      },
      "execution_count": null,
      "outputs": [
        {
          "output_type": "stream",
          "name": "stdout",
          "text": [
            "/content\n"
          ]
        },
        {
          "output_type": "execute_result",
          "data": {
            "text/plain": [
              "['.config',\n",
              " 'file1.npy',\n",
              " 'Example2.txt',\n",
              " 'fileZ.npy',\n",
              " 'fileZ.txt',\n",
              " 'sample_data']"
            ]
          },
          "metadata": {},
          "execution_count": 12
        }
      ]
    },
    {
      "cell_type": "code",
      "source": [
        "\n",
        "# Write line to file\n",
        "with open('/content/Example2.txt', 'w') as writefile:\n",
        "    writefile.write(\"This is line A\")"
      ],
      "metadata": {
        "id": "oN1GG8Kfjrp4"
      },
      "execution_count": null,
      "outputs": []
    }
  ]
}