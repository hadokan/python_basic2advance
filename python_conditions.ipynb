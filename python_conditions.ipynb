{
  "nbformat": 4,
  "nbformat_minor": 0,
  "metadata": {
    "colab": {
      "provenance": [],
      "authorship_tag": "ABX9TyNpT2ewp70Os/P3cZEKRGS1",
      "include_colab_link": true
    },
    "kernelspec": {
      "name": "python3",
      "display_name": "Python 3"
    },
    "language_info": {
      "name": "python"
    }
  },
  "cells": [
    {
      "cell_type": "markdown",
      "metadata": {
        "id": "view-in-github",
        "colab_type": "text"
      },
      "source": [
        "<a href=\"https://colab.research.google.com/github/hadokan/python_basics/blob/main/python_conditions.ipynb\" target=\"_parent\"><img src=\"https://colab.research.google.com/assets/colab-badge.svg\" alt=\"Open In Colab\"/></a>"
      ]
    },
    {
      "cell_type": "code",
      "execution_count": 3,
      "metadata": {
        "colab": {
          "base_uri": "https://localhost:8080/"
        },
        "id": "tlzYey_k4xXj",
        "outputId": "831a7b6e-d9e8-404a-cbff-c06df958c7d2"
      },
      "outputs": [
        {
          "output_type": "stream",
          "name": "stdout",
          "text": [
            "Insert number to decide whether it is Positive or Negative \n",
            "5\n",
            "Positive number\n",
            "Process is finished\n"
          ]
        }
      ],
      "source": [
        "\n",
        "print('Insert number to decide whether it is Positive or Negative ')\n",
        "number=int(input())\n",
        "\n",
        "if number > 0:\n",
        "    print('It is a positive number')\n",
        "\n",
        "else:\n",
        "    print('It is a negative number')\n",
        "\n",
        "print('Process is finished')"
      ]
    },
    {
      "cell_type": "code",
      "source": [
        "number = 0\n",
        "\n",
        "if number > 0:\n",
        "    print(\"Positive number\")\n",
        "\n",
        "elif number == 0:\n",
        "    print('Zero')\n",
        "\n",
        "else:\n",
        "    print('Negative number')\n",
        "\n",
        "print('Dont worry be happy!')"
      ],
      "metadata": {
        "colab": {
          "base_uri": "https://localhost:8080/"
        },
        "id": "tMqt2LuU6Z2A",
        "outputId": "7efa35b2-0b9f-4e4d-8ade-617db3d226a1"
      },
      "execution_count": 4,
      "outputs": [
        {
          "output_type": "stream",
          "name": "stdout",
          "text": [
            "Zero\n",
            "Dont worry be happy!\n"
          ]
        }
      ]
    },
    {
      "cell_type": "code",
      "source": [
        "number = 5\n",
        "\n",
        "# outer if statement\n",
        "if (number >= 0):\n",
        "    # inner if statement\n",
        "    if number == 0:\n",
        "      print('Number is 0')\n",
        "\n",
        "    # inner else statement\n",
        "    else:\n",
        "        print('Number is positive')\n",
        "\n",
        "# outer else statement\n",
        "else:\n",
        "    print('Number is negative')\n",
        "\n",
        "# Output: Number is positive"
      ],
      "metadata": {
        "id": "xwp_jtH265-0",
        "outputId": "8bb39ea5-e86b-4fac-c314-952b63e9c5c3",
        "colab": {
          "base_uri": "https://localhost:8080/"
        }
      },
      "execution_count": null,
      "outputs": [
        {
          "output_type": "stream",
          "name": "stdout",
          "text": [
            "Number is positive\n"
          ]
        }
      ]
    }
  ]
}