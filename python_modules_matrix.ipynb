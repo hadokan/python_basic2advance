{
  "nbformat": 4,
  "nbformat_minor": 0,
  "metadata": {
    "colab": {
      "provenance": [],
      "authorship_tag": "ABX9TyO6cVFiu11s+KlZeWNIuuy0",
      "include_colab_link": true
    },
    "kernelspec": {
      "name": "python3",
      "display_name": "Python 3"
    },
    "language_info": {
      "name": "python"
    }
  },
  "cells": [
    {
      "cell_type": "markdown",
      "metadata": {
        "id": "view-in-github",
        "colab_type": "text"
      },
      "source": [
        "<a href=\"https://colab.research.google.com/github/hadokan/python_basics/blob/main/python_modules_matrix.ipynb\" target=\"_parent\"><img src=\"https://colab.research.google.com/assets/colab-badge.svg\" alt=\"Open In Colab\"/></a>"
      ]
    },
    {
      "cell_type": "code",
      "execution_count": 18,
      "metadata": {
        "colab": {
          "base_uri": "https://localhost:8080/"
        },
        "id": "OXYcbv-2-aiN",
        "outputId": "bb3e3108-a190-4383-9720-ebdb2218e9c4"
      },
      "outputs": [
        {
          "output_type": "stream",
          "name": "stdout",
          "text": [
            "3.141592653589793\n"
          ]
        }
      ],
      "source": [
        "# import module and rename it as\n",
        "import math as mt\n",
        "print(mt.pi)"
      ]
    },
    {
      "cell_type": "code",
      "source": [
        "# import only pi from math module\n",
        "from math import pi\n",
        "print(pi)"
      ],
      "metadata": {
        "colab": {
          "base_uri": "https://localhost:8080/"
        },
        "id": "7ZdX8q5C-qfg",
        "outputId": "3470e830-6347-4049-d209-4bbc28b7a2f5"
      },
      "execution_count": 19,
      "outputs": [
        {
          "output_type": "stream",
          "name": "stdout",
          "text": [
            "3.141592653589793\n"
          ]
        }
      ]
    },
    {
      "cell_type": "code",
      "source": [
        "# import all names from the standard module math\n",
        "from math import *"
      ],
      "metadata": {
        "id": "rcpoPBRH-y2d"
      },
      "execution_count": 20,
      "outputs": []
    },
    {
      "cell_type": "code",
      "source": [
        "import numpy as np\n",
        "# Program to multiply two matrices using nested loops\n",
        "# 3x3 matrix\n",
        "X = [[0,1,3],\n",
        "    [4 ,4,7],\n",
        "    [0 ,2,9]]\n",
        "# 3x4 matrix\n",
        "Y = [[0,3,1,2],\n",
        "    [6,9,3,0],\n",
        "    [0,2,2,1]]\n",
        "\n",
        "# result is 3x4\n",
        "result = [[0,0,0,0],\n",
        "         [0,0,0,0],\n",
        "         [0,0,0,0]]\n",
        "\n",
        "# iterate through rows of X\n",
        "for i in range(len(X)):\n",
        "   # iterate through columns of Y\n",
        "   for j in range(len(Y[0])):\n",
        "       # iterate through rows of Y\n",
        "       for k in range(len(Y)):\n",
        "           result[i][j] += X[i][k] * Y[k][j]\n",
        "\n",
        "for r in result:\n",
        "    print(r)\n",
        "\n",
        "print('........NUMPY RESULT (matmul)...........')\n",
        "Z = np.matmul(X,Y)\n",
        "print(Z)\n",
        "print('........NUMPY RESULT (dot)...........')\n",
        "Zx = np.dot(X,Y)\n",
        "print(Zx)\n",
        "\n",
        "#%timeit np.matmul(X,Y)\n",
        "#%timeit np.dot(X,Y)"
      ],
      "metadata": {
        "colab": {
          "base_uri": "https://localhost:8080/"
        },
        "id": "7bgs87ZqUrMI",
        "outputId": "459d8640-b7d5-49f6-aefa-cd55919ce137"
      },
      "execution_count": 21,
      "outputs": [
        {
          "output_type": "stream",
          "name": "stdout",
          "text": [
            "[6, 15, 9, 3]\n",
            "[24, 62, 30, 15]\n",
            "[12, 36, 24, 9]\n",
            "........NUMPY RESULT (matmul)...........\n",
            "[[ 6 15  9  3]\n",
            " [24 62 30 15]\n",
            " [12 36 24  9]]\n",
            "........NUMPY RESULT (dot)...........\n",
            "[[ 6 15  9  3]\n",
            " [24 62 30 15]\n",
            " [12 36 24  9]]\n"
          ]
        }
      ]
    },
    {
      "cell_type": "code",
      "source": [
        "import numpy as np\n",
        "# 1x4 vector\n",
        "X = [0,1,3,2]\n",
        "# 1x4 vector\n",
        "Y = [0,3,1,4]\n",
        "print('Inner Product')\n",
        "Zi = np.inner(X,Y)\n",
        "print(Zi)\n",
        "Zo = np.outer(X,Y)\n",
        "print('Outher Product')\n",
        "print(Zo)"
      ],
      "metadata": {
        "colab": {
          "base_uri": "https://localhost:8080/"
        },
        "id": "JT6Y1RlabeFD",
        "outputId": "0d4c8b79-e548-4965-cd28-2869d6cfa67d"
      },
      "execution_count": 25,
      "outputs": [
        {
          "output_type": "stream",
          "name": "stdout",
          "text": [
            "Inner Product\n",
            "14\n",
            "Outher Product\n",
            "[[ 0  0  0  0]\n",
            " [ 0  3  1  4]\n",
            " [ 0  9  3 12]\n",
            " [ 0  6  2  8]]\n"
          ]
        }
      ]
    },
    {
      "cell_type": "code",
      "source": [
        "#Element-Wise Multiplication (Hadamart Product)\n",
        "# 3x3 matrix\n",
        "X = [[0,1,3],\n",
        "    [4 ,4,7],\n",
        "    [0 ,2,9]]\n",
        "# 3x3 matrix\n",
        "Y = [[0,3,1],\n",
        "    [6,9,3],\n",
        "    [0,2,2]]\n",
        "\n",
        "Ze=np.array(X)*np.array(Y)\n",
        "print('Element-Wise Multiplication (Hadamart Product)')\n",
        "print(Ze)\n",
        "\n",
        "%timeit Ze=np.array(X)*np.array(Y)"
      ],
      "metadata": {
        "colab": {
          "base_uri": "https://localhost:8080/"
        },
        "id": "psg9JJihhBdR",
        "outputId": "1a9ecd89-4b1a-4b4a-d443-b74b1bf14858"
      },
      "execution_count": 24,
      "outputs": [
        {
          "output_type": "stream",
          "name": "stdout",
          "text": [
            "Element-Wise Multiplication (Hadamart Product)\n",
            "[[ 0  3  3]\n",
            " [24 36 21]\n",
            " [ 0  4 18]]\n",
            "5.97 µs ± 2.2 µs per loop (mean ± std. dev. of 7 runs, 100000 loops each)\n"
          ]
        }
      ]
    }
  ]
}