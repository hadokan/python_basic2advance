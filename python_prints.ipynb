{
  "nbformat": 4,
  "nbformat_minor": 0,
  "metadata": {
    "colab": {
      "provenance": [],
      "authorship_tag": "ABX9TyPZh+Dtj00evDieY7QTOjFO",
      "include_colab_link": true
    },
    "kernelspec": {
      "name": "python3",
      "display_name": "Python 3"
    },
    "language_info": {
      "name": "python"
    }
  },
  "cells": [
    {
      "cell_type": "markdown",
      "metadata": {
        "id": "view-in-github",
        "colab_type": "text"
      },
      "source": [
        "<a href=\"https://colab.research.google.com/github/hadokan/python_basics/blob/main/python_prints.ipynb\" target=\"_parent\"><img src=\"https://colab.research.google.com/assets/colab-badge.svg\" alt=\"Open In Colab\"/></a>"
      ]
    },
    {
      "cell_type": "code",
      "execution_count": 5,
      "metadata": {
        "colab": {
          "base_uri": "https://localhost:8080/"
        },
        "id": "53LTTsCPBhcd",
        "outputId": "ca09cb2f-36b9-4b2c-d984-7023b105928c"
      },
      "outputs": [
        {
          "output_type": "stream",
          "name": "stdout",
          "text": [
            "Welcome, 007, Be carefull !\n"
          ]
        }
      ],
      "source": [
        "print('Welcome', '007', 'Be carefull !', sep= ', ')"
      ]
    },
    {
      "cell_type": "code",
      "source": [
        "print('Life ' + 'is good')"
      ],
      "metadata": {
        "colab": {
          "base_uri": "https://localhost:8080/"
        },
        "id": "bPhBuoYLCHW3",
        "outputId": "575557e4-4c0d-43fa-9274-144ee0fd47f7"
      },
      "execution_count": 6,
      "outputs": [
        {
          "output_type": "stream",
          "name": "stdout",
          "text": [
            "Life is good\n"
          ]
        }
      ]
    },
    {
      "cell_type": "code",
      "source": [
        "x = 3\n",
        "y = 1\n",
        "\n",
        "print('The value of x is {} and y is {}'.format(x,y))\n",
        "print('The sum is',x+y)"
      ],
      "metadata": {
        "colab": {
          "base_uri": "https://localhost:8080/"
        },
        "id": "PWejMgj4CRu9",
        "outputId": "dcd296bd-18f0-4a75-c5cb-0548c99f30c1"
      },
      "execution_count": 9,
      "outputs": [
        {
          "output_type": "stream",
          "name": "stdout",
          "text": [
            "The value of x is 3 and y is 1\n",
            "The sum is 4\n"
          ]
        }
      ]
    },
    {
      "cell_type": "code",
      "source": [
        "# input() function to get user input\n",
        "num = input('Enter something: ')\n",
        "print('You Entered:', num)\n",
        "\n",
        "print('Data type of num:', type(num))\n",
        "\n",
        "# You could convert input type as follows;\n",
        "#num = int(input('Enter a number: '))\n"
      ],
      "metadata": {
        "colab": {
          "base_uri": "https://localhost:8080/"
        },
        "id": "mjThU4WJCjnn",
        "outputId": "9eea57dc-a258-40b8-e794-b0393aaa8ad9"
      },
      "execution_count": 13,
      "outputs": [
        {
          "output_type": "stream",
          "name": "stdout",
          "text": [
            "Enter something: A\n",
            "You Entered: A\n",
            "Data type of num: <class 'str'>\n"
          ]
        }
      ]
    }
  ]
}