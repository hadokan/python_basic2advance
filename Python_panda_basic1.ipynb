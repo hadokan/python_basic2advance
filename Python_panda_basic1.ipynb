{
  "nbformat": 4,
  "nbformat_minor": 0,
  "metadata": {
    "colab": {
      "provenance": [],
      "authorship_tag": "ABX9TyPboThV/76ENHrPJsSsrrB+",
      "include_colab_link": true
    },
    "kernelspec": {
      "name": "python3",
      "display_name": "Python 3"
    },
    "language_info": {
      "name": "python"
    }
  },
  "cells": [
    {
      "cell_type": "markdown",
      "metadata": {
        "id": "view-in-github",
        "colab_type": "text"
      },
      "source": [
        "<a href=\"https://colab.research.google.com/github/hadokan/python_basics/blob/main/Python_panda_basic1.ipynb\" target=\"_parent\"><img src=\"https://colab.research.google.com/assets/colab-badge.svg\" alt=\"Open In Colab\"/></a>"
      ]
    },
    {
      "cell_type": "code",
      "execution_count": 21,
      "metadata": {
        "colab": {
          "base_uri": "https://localhost:8080/"
        },
        "id": "0WRm8SUci2w4",
        "outputId": "78318621-b14b-4c60-810b-546d1b144a29"
      },
      "outputs": [
        {
          "output_type": "stream",
          "name": "stdout",
          "text": [
            "     stores  sales\n",
            "0  istanbul  13000\n",
            "1    ankara   4000\n",
            "2   antalya   2000\n",
            "...............\n",
            "stores    istanbul\n",
            "sales        13000\n",
            "Name: 0, dtype: object\n",
            "...............\n",
            "stores    antalya\n",
            "sales        2000\n",
            "Name: 2, dtype: object\n",
            "...............\n",
            "     stores  sales\n",
            "0  istanbul  13000\n",
            "2   antalya   2000\n"
          ]
        }
      ],
      "source": [
        "import pandas\n",
        "\n",
        "dataset = {\n",
        "  'stores': [\"istanbul\", \"ankara\", \"antalya\"],\n",
        "  'sales': [13000, 4000, 2000]\n",
        "}\n",
        "\n",
        "dataset_DF = pandas.DataFrame(dataset)\n",
        "\n",
        "print(dataset_DF)\n",
        "print('...............')\n",
        "#refer to the row index:\n",
        "print(dataset_DF.loc[0])\n",
        "print('...............')\n",
        "print(dataset_DF.loc[2])\n",
        "print('...............')\n",
        "print(dataset_DF.loc[[0,2]])"
      ]
    },
    {
      "cell_type": "code",
      "source": [
        "import pandas as pd\n",
        "\n",
        "data = {\n",
        "  \"customers\": [10, 15, 12],\n",
        "  \"sales\": [50, 40, 45]\n",
        "}\n",
        "\n",
        "df = pd.DataFrame(data, index = [\"day1\", \"day2\", \"day3\"])\n",
        "\n",
        "print(df)\n",
        "print('...............')\n",
        "#refer to the named index:\n",
        "print(df.loc[\"day2\"])"
      ],
      "metadata": {
        "colab": {
          "base_uri": "https://localhost:8080/"
        },
        "id": "4jXyGhU57iFM",
        "outputId": "83fb9236-3642-4d3d-e80e-1530cd1bbdf6"
      },
      "execution_count": 24,
      "outputs": [
        {
          "output_type": "stream",
          "name": "stdout",
          "text": [
            "      customers  sales\n",
            "day1         10     50\n",
            "day2         15     40\n",
            "day3         12     45\n",
            "...............\n",
            "customers    15\n",
            "sales        40\n",
            "Name: day2, dtype: int64\n"
          ]
        }
      ]
    },
    {
      "cell_type": "code",
      "source": [
        "import pandas as pd\n",
        "\n",
        "a = [0,1,3,3, 7,'A', 2]\n",
        "\n",
        "seriA = pd.Series(a)\n",
        "\n",
        "print(seriA)"
      ],
      "metadata": {
        "colab": {
          "base_uri": "https://localhost:8080/"
        },
        "id": "VwHynrTgqAjC",
        "outputId": "da9fe7f5-f50c-4d7d-c110-b09987d73106"
      },
      "execution_count": 5,
      "outputs": [
        {
          "output_type": "stream",
          "name": "stdout",
          "text": [
            "0    0\n",
            "1    1\n",
            "2    3\n",
            "3    3\n",
            "4    7\n",
            "5    A\n",
            "6    2\n",
            "dtype: object\n"
          ]
        }
      ]
    },
    {
      "cell_type": "code",
      "source": [
        "import pandas as pd\n",
        "\n",
        "a = [0,5,21,3]\n",
        "\n",
        "myvar = pd.Series(a, index = [\"x\", \"y\", \"z\",'d'])\n",
        "\n",
        "print(myvar)"
      ],
      "metadata": {
        "colab": {
          "base_uri": "https://localhost:8080/"
        },
        "id": "QpKETWZe2P4T",
        "outputId": "226cc7d0-55ee-4f79-b2d0-ff95c533fe29"
      },
      "execution_count": 6,
      "outputs": [
        {
          "output_type": "stream",
          "name": "stdout",
          "text": [
            "x     0\n",
            "y     5\n",
            "z    21\n",
            "d     3\n",
            "dtype: int64\n"
          ]
        }
      ]
    },
    {
      "cell_type": "code",
      "source": [
        "import pandas as pd\n",
        "\n",
        "runs = {\"day1\": 3, \"day2\": 5, \"day3\": 7}\n",
        "\n",
        "runsX = pd.Series(runs)\n",
        "\n",
        "#myvar = pd.DataFrame(runs)\n",
        "#ValueError: If using all scalar values, you must pass an index\n",
        "\n",
        "print(runsX)"
      ],
      "metadata": {
        "colab": {
          "base_uri": "https://localhost:8080/"
        },
        "id": "W6seucVN3hjG",
        "outputId": "abd351ae-bc3c-4ebe-9efc-120455f67fd5"
      },
      "execution_count": 9,
      "outputs": [
        {
          "output_type": "stream",
          "name": "stdout",
          "text": [
            "day1    3\n",
            "day2    5\n",
            "day3    7\n",
            "dtype: int64\n"
          ]
        }
      ]
    },
    {
      "cell_type": "code",
      "source": [
        "import pandas as pd\n",
        "\n",
        "runsnew = {\"day1\": 3, \"day2\": 0, \"day3\": 5}\n",
        "\n",
        "runsnewS = pd.Series(runsnew, index = [\"day1\", \"day2\"])\n",
        "\n",
        "print(runsnewS)"
      ],
      "metadata": {
        "colab": {
          "base_uri": "https://localhost:8080/"
        },
        "id": "6ryhVCzo4SNA",
        "outputId": "b0bcffcf-e803-4196-de6b-ef3c153e067b"
      },
      "execution_count": 11,
      "outputs": [
        {
          "output_type": "stream",
          "name": "stdout",
          "text": [
            "day1    3\n",
            "day2    0\n",
            "dtype: int64\n"
          ]
        }
      ]
    },
    {
      "cell_type": "code",
      "source": [
        "df = pd.DataFrame({'A': [0, 1],\n",
        "                   'B': [5, 6],\n",
        "                   'C': [6, 9]})\n",
        "df.to_csv(index=False)\n",
        "#'name,mask,weapon\\nRaphael,red,sai\\nDonatello,purple,bo staff\\n'\n",
        "\n",
        "print(df)"
      ],
      "metadata": {
        "colab": {
          "base_uri": "https://localhost:8080/"
        },
        "id": "hLnZVxgQF_O4",
        "outputId": "1e9d79ed-5e27-4a68-abb4-cfb713b0692f"
      },
      "execution_count": 29,
      "outputs": [
        {
          "output_type": "stream",
          "name": "stdout",
          "text": [
            "   A  B  C\n",
            "0  0  5  6\n",
            "1  1  6  9\n"
          ]
        }
      ]
    },
    {
      "cell_type": "code",
      "source": [
        "# Numpy\n",
        "# A list is an ordered collection of elements, where each element has a specific index starting from 0.\n",
        "# Lists are mutable, meaning you can add, remove, or modify elements after creating the list.\n",
        "# The elements in a list can be accessed by their index values.\n",
        "# The indexes of a list are always integers.\n",
        "# A list can hold duplicate values."
      ],
      "metadata": {
        "id": "RiV6r5nG045q"
      },
      "execution_count": null,
      "outputs": []
    }
  ]
}