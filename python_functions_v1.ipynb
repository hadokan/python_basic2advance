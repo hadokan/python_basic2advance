{
  "nbformat": 4,
  "nbformat_minor": 0,
  "metadata": {
    "colab": {
      "provenance": [],
      "authorship_tag": "ABX9TyONHbpAUtEs/8+JJh+cF9DT",
      "include_colab_link": true
    },
    "kernelspec": {
      "name": "python3",
      "display_name": "Python 3"
    },
    "language_info": {
      "name": "python"
    }
  },
  "cells": [
    {
      "cell_type": "markdown",
      "metadata": {
        "id": "view-in-github",
        "colab_type": "text"
      },
      "source": [
        "<a href=\"https://colab.research.google.com/github/hadokan/python_basics/blob/main/python_functions_v1.ipynb\" target=\"_parent\"><img src=\"https://colab.research.google.com/assets/colab-badge.svg\" alt=\"Open In Colab\"/></a>"
      ]
    },
    {
      "cell_type": "code",
      "execution_count": null,
      "metadata": {
        "id": "_Gc3VCfS_YKB"
      },
      "outputs": [],
      "source": [
        "# There are two kinds of functions.\n",
        "# First;  Standard library functions (available built-in functions in Python)\n",
        "# Second; User-defined functions - Create our own functions.\n",
        "\n",
        "def function_name(arguments):\n",
        "    # function body\n",
        "\n",
        "    return\n",
        "\n",
        "# def - keyword used to declare a function\n",
        "# function_name - any name given to the function\n",
        "# arguments - any value passed to function\n",
        "# return (optional) - returns value from a function"
      ]
    },
    {
      "cell_type": "code",
      "source": [
        "# function with two arguments\n",
        "def add_numbers(num1, num2):\n",
        "    sum = num1 + num2\n",
        "    print(\"Sum: \",sum)\n",
        "    return num1*2\n",
        "# function call with two values\n",
        "add_numbers(5, 4)\n",
        "\n",
        "# Output: Sum: 9"
      ],
      "metadata": {
        "colab": {
          "base_uri": "https://localhost:8080/"
        },
        "id": "3AvtrFrIARmn",
        "outputId": "04e3c2ed-190e-4dc7-8209-39816bc7283f"
      },
      "execution_count": null,
      "outputs": [
        {
          "output_type": "stream",
          "name": "stdout",
          "text": [
            "Sum:  9\n"
          ]
        },
        {
          "output_type": "execute_result",
          "data": {
            "text/plain": [
              "10"
            ]
          },
          "metadata": {},
          "execution_count": 1
        }
      ]
    },
    {
      "cell_type": "code",
      "source": [
        "# function definition\n",
        "def get_square(num):\n",
        "    return num * num\n",
        "\n",
        "for i in [0,1,2,3,4]:\n",
        "    # function call\n",
        "    result = get_square(i)\n",
        "    print('Square of',i, '=',result)"
      ],
      "metadata": {
        "colab": {
          "base_uri": "https://localhost:8080/"
        },
        "id": "8w9m1mBvAv1j",
        "outputId": "a78a0e6f-38d6-42f5-e6b6-20d4f47124c3"
      },
      "execution_count": null,
      "outputs": [
        {
          "output_type": "stream",
          "name": "stdout",
          "text": [
            "Square of 0 = 0\n",
            "Square of 1 = 1\n",
            "Square of 2 = 4\n",
            "Square of 3 = 9\n",
            "Square of 4 = 16\n"
          ]
        }
      ]
    },
    {
      "cell_type": "code",
      "source": [
        "#Function Argument with Default Values\n",
        "#Default values for function could be defined in advance.\n",
        "#\"=\" operator is used for default values.\n",
        "def add_numbers( a = 0,  b = 1):\n",
        "    sum = a + b\n",
        "    print('Sum:', sum)\n",
        "# function call with two arguments\n",
        "add_numbers(2, 3)\n",
        "#  function call with one argument\n",
        "add_numbers(a = 1)\n",
        "# function call with no arguments\n",
        "add_numbers()"
      ],
      "metadata": {
        "colab": {
          "base_uri": "https://localhost:8080/"
        },
        "id": "6Ld1oiqAFeit",
        "outputId": "2b6ef99e-b036-4f47-e756-5652630e5a3a"
      },
      "execution_count": null,
      "outputs": [
        {
          "output_type": "stream",
          "name": "stdout",
          "text": [
            "Sum: 5\n",
            "Sum: 10\n",
            "Sum: 15\n"
          ]
        }
      ]
    },
    {
      "cell_type": "code",
      "source": [
        "def display_info(first_name, last_name):\n",
        "    print('First Name:', first_name)\n",
        "    print('Last Name:', last_name)\n",
        "\n",
        "display_info(last_name = 'dogan', first_name = 'hakan')\n",
        "\n",
        "display_info('alex','XX')\n",
        "display_info('XX','alex')"
      ],
      "metadata": {
        "colab": {
          "base_uri": "https://localhost:8080/"
        },
        "id": "SfhPrLroF2NZ",
        "outputId": "210f61c5-f42d-43f1-d0ea-81773db74f56"
      },
      "execution_count": null,
      "outputs": [
        {
          "output_type": "stream",
          "name": "stdout",
          "text": [
            "First Name: hakan\n",
            "Last Name: dogan\n",
            "First Name: alex\n",
            "Last Name: XX\n",
            "First Name: XX\n",
            "Last Name: alex\n"
          ]
        }
      ]
    },
    {
      "cell_type": "code",
      "source": [
        "# Arbitrary Arguments Case for Python Functions\n",
        "# For some cases, the number of arguments that will be passed into a function could not be known in advance.\n",
        "# To handle this kind of situation, arbitrary arguments is used.\n",
        "# That allows us to pass a varying number of values.\n",
        "# An asterisk (*) is used before the parameter name.\n",
        "# For instance, program to find sum of multiple numbers\n",
        "\n",
        "def find_sum(*numbers):\n",
        "    result = 0\n",
        "\n",
        "    for num in numbers:\n",
        "        result = result + num\n",
        "\n",
        "    print(\"Sum = \", result)\n",
        "\n",
        "# function call with 3 arguments\n",
        "find_sum(1, 2, 3)\n",
        "\n",
        "# function call with 2 arguments\n",
        "find_sum(4, 9)"
      ],
      "metadata": {
        "colab": {
          "base_uri": "https://localhost:8080/"
        },
        "id": "pPuvovXrHf62",
        "outputId": "bc1ec5c8-db7a-41ee-d31e-d862d3cd7c6a"
      },
      "execution_count": null,
      "outputs": [
        {
          "output_type": "stream",
          "name": "stdout",
          "text": [
            "Sum =  6\n",
            "Sum =  13\n"
          ]
        }
      ]
    },
    {
      "cell_type": "code",
      "source": [
        "# Python Recursion\n",
        "\n",
        "def factorial(x):\n",
        "    \"\"\"This is a recursive function\n",
        "    to find the factorial of an integer\"\"\"\n",
        "\n",
        "    if x == 1:\n",
        "        return 1\n",
        "    else:\n",
        "        return (x * factorial(x-1))\n",
        "\n",
        "\n",
        "num = 3\n",
        "print(\"The factorial of\", num, \"is\", factorial(num))"
      ],
      "metadata": {
        "colab": {
          "base_uri": "https://localhost:8080/"
        },
        "id": "bdLCftcmIPQ7",
        "outputId": "d58e540d-e097-40d2-bb11-2fa14b6e6031"
      },
      "execution_count": null,
      "outputs": [
        {
          "output_type": "stream",
          "name": "stdout",
          "text": [
            "The factorial of 3 is 6\n"
          ]
        }
      ]
    },
    {
      "cell_type": "code",
      "source": [
        "# Lambda Function is known as an 'Anonymous Function'\n",
        "# It can be defined without a name.\n",
        "\n",
        "# Lambda argument(s) : expression\n",
        "greet = lambda : print('Sit, be still, and listen.')\n",
        "\n",
        "# call the lambda\n",
        "greet()"
      ],
      "metadata": {
        "colab": {
          "base_uri": "https://localhost:8080/"
        },
        "id": "WIlynGIvZYCv",
        "outputId": "46c38237-3c97-490a-e03d-c047a1e75a03"
      },
      "execution_count": 1,
      "outputs": [
        {
          "output_type": "stream",
          "name": "stdout",
          "text": [
            "Sit, be still, and listen.\n"
          ]
        }
      ]
    },
    {
      "cell_type": "code",
      "source": [
        "# lambda that accepts one argument\n",
        "greet_user = lambda name : print('Patience is the key to joy,', name)\n",
        "\n",
        "# lambda call\n",
        "greet_user('Hakan')\n",
        "\n",
        "# Output: Hey there, Delilah"
      ],
      "metadata": {
        "colab": {
          "base_uri": "https://localhost:8080/"
        },
        "id": "Ip6nX5AcfVck",
        "outputId": "bb262802-1848-4389-eb6f-e2266916c01a"
      },
      "execution_count": 5,
      "outputs": [
        {
          "output_type": "stream",
          "name": "stdout",
          "text": [
            "Patience is the key to joy, Hakan\n"
          ]
        }
      ]
    },
    {
      "cell_type": "code",
      "source": [
        "# Program to filter out only the even items from a list\n",
        "my_list = [1, 5, 4, 6, 8, 11, 3, 12]\n",
        "\n",
        "new_list = list(filter(lambda x: (x%2 == 0) , my_list))\n",
        "\n",
        "print(new_list)\n",
        "\n",
        "# Output: [4, 6, 8, 12]"
      ],
      "metadata": {
        "id": "p4dqWqPqgvS-",
        "outputId": "f47114cb-cd2b-4b5a-e208-4f3524b93d49",
        "colab": {
          "base_uri": "https://localhost:8080/"
        }
      },
      "execution_count": null,
      "outputs": [
        {
          "output_type": "stream",
          "name": "stdout",
          "text": [
            "[4, 6, 8, 12]\n"
          ]
        }
      ]
    }
  ]
}