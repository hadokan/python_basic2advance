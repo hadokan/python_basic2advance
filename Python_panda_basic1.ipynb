{
  "nbformat": 4,
  "nbformat_minor": 0,
  "metadata": {
    "colab": {
      "provenance": [],
      "authorship_tag": "ABX9TyPpEGG0bChjnyUsSDi8ZwEH",
      "include_colab_link": true
    },
    "kernelspec": {
      "name": "python3",
      "display_name": "Python 3"
    },
    "language_info": {
      "name": "python"
    }
  },
  "cells": [
    {
      "cell_type": "markdown",
      "metadata": {
        "id": "view-in-github",
        "colab_type": "text"
      },
      "source": [
        "<a href=\"https://colab.research.google.com/github/hadokan/python_basics/blob/main/Python_panda_basic1.ipynb\" target=\"_parent\"><img src=\"https://colab.research.google.com/assets/colab-badge.svg\" alt=\"Open In Colab\"/></a>"
      ]
    },
    {
      "cell_type": "code",
      "execution_count": 3,
      "metadata": {
        "colab": {
          "base_uri": "https://localhost:8080/"
        },
        "id": "0WRm8SUci2w4",
        "outputId": "3e980173-9e09-4ec0-8d67-b191fe633ffd"
      },
      "outputs": [
        {
          "output_type": "stream",
          "name": "stdout",
          "text": [
            "     stores  sales\n",
            "0  istanbul  13000\n",
            "1    ankara   4000\n",
            "2   antalya   2000\n",
            "...............\n",
            "stores    istanbul\n",
            "sales        13000\n",
            "Name: 0, dtype: object\n",
            "...............\n",
            "stores    antalya\n",
            "sales        2000\n",
            "Name: 2, dtype: object\n",
            "...............\n",
            "     stores  sales\n",
            "0  istanbul  13000\n",
            "2   antalya   2000\n"
          ]
        }
      ],
      "source": [
        "import pandas\n",
        "\n",
        "dataset = {\n",
        "  'stores': [\"istanbul\", \"ankara\", \"antalya\"],\n",
        "  'sales': [13000, 4000, 2000]\n",
        "}\n",
        "\n",
        "dataset_DF = pandas.DataFrame(dataset)\n",
        "\n",
        "print(dataset_DF)\n",
        "print('...............')\n",
        "#refer to the row index:\n",
        "print(dataset_DF.loc[0])\n",
        "print('...............')\n",
        "print(dataset_DF.loc[2])\n",
        "print('...............')\n",
        "print(dataset_DF.loc[[0,2]])"
      ]
    },
    {
      "cell_type": "code",
      "source": [
        "import pandas as pd\n",
        "\n",
        "data = {\n",
        "  \"customers\": [10, 15, 12],\n",
        "  \"sales\": [50, 40, 45]\n",
        "}\n",
        "\n",
        "df = pd.DataFrame(data, index = [\"day1\", \"day2\", \"day3\"])\n",
        "\n",
        "print(df)\n",
        "print('...............')\n",
        "#refer to the named index:\n",
        "print(df.loc[\"day2\"])"
      ],
      "metadata": {
        "colab": {
          "base_uri": "https://localhost:8080/"
        },
        "id": "4jXyGhU57iFM",
        "outputId": "069df07b-59fd-4c07-b273-402e445dc177"
      },
      "execution_count": 4,
      "outputs": [
        {
          "output_type": "stream",
          "name": "stdout",
          "text": [
            "      customers  sales\n",
            "day1         10     50\n",
            "day2         15     40\n",
            "day3         12     45\n",
            "...............\n",
            "customers    15\n",
            "sales        40\n",
            "Name: day2, dtype: int64\n"
          ]
        }
      ]
    },
    {
      "cell_type": "code",
      "source": [
        "import pandas as pd\n",
        "\n",
        "a = [0,1,3,3, 7,'A', 2]\n",
        "\n",
        "seriA = pd.Series(a)\n",
        "\n",
        "print(seriA)"
      ],
      "metadata": {
        "colab": {
          "base_uri": "https://localhost:8080/"
        },
        "id": "VwHynrTgqAjC",
        "outputId": "e5ffa89a-c6c9-4796-8c5e-b348831f0e5c"
      },
      "execution_count": 5,
      "outputs": [
        {
          "output_type": "stream",
          "name": "stdout",
          "text": [
            "0    0\n",
            "1    1\n",
            "2    3\n",
            "3    3\n",
            "4    7\n",
            "5    A\n",
            "6    2\n",
            "dtype: object\n"
          ]
        }
      ]
    },
    {
      "cell_type": "code",
      "source": [
        "import pandas as pd\n",
        "\n",
        "a = [0,5,21,3]\n",
        "\n",
        "myvar = pd.Series(a, index = [\"x\", \"y\", \"z\",'d'])\n",
        "\n",
        "print(myvar)"
      ],
      "metadata": {
        "colab": {
          "base_uri": "https://localhost:8080/"
        },
        "id": "QpKETWZe2P4T",
        "outputId": "5d83e533-a87f-4bd8-b095-723fb7409608"
      },
      "execution_count": 6,
      "outputs": [
        {
          "output_type": "stream",
          "name": "stdout",
          "text": [
            "x     0\n",
            "y     5\n",
            "z    21\n",
            "d     3\n",
            "dtype: int64\n"
          ]
        }
      ]
    },
    {
      "cell_type": "code",
      "source": [
        "import pandas as pd\n",
        "\n",
        "runs = {\"day1\": 3, \"day2\": 5, \"day3\": 7}\n",
        "\n",
        "runsX = pd.Series(runs)\n",
        "\n",
        "#myvar = pd.DataFrame(runs)\n",
        "#ValueError: If using all scalar values, you must pass an index\n",
        "\n",
        "print(runsX)"
      ],
      "metadata": {
        "colab": {
          "base_uri": "https://localhost:8080/"
        },
        "id": "W6seucVN3hjG",
        "outputId": "6e6296e2-5670-4cc5-ee6c-a66a47b7e92a"
      },
      "execution_count": 7,
      "outputs": [
        {
          "output_type": "stream",
          "name": "stdout",
          "text": [
            "day1    3\n",
            "day2    5\n",
            "day3    7\n",
            "dtype: int64\n"
          ]
        }
      ]
    },
    {
      "cell_type": "code",
      "source": [
        "import pandas as pd\n",
        "\n",
        "runsnew = {\"day1\": 3, \"day2\": 0, \"day3\": 5}\n",
        "\n",
        "runsnewS = pd.Series(runsnew, index = [\"day1\", \"day2\"])\n",
        "\n",
        "print(runsnewS)"
      ],
      "metadata": {
        "colab": {
          "base_uri": "https://localhost:8080/"
        },
        "id": "6ryhVCzo4SNA",
        "outputId": "76d764ef-c5bc-4103-d250-48cb9f08a1e8"
      },
      "execution_count": 8,
      "outputs": [
        {
          "output_type": "stream",
          "name": "stdout",
          "text": [
            "day1    3\n",
            "day2    0\n",
            "dtype: int64\n"
          ]
        }
      ]
    },
    {
      "cell_type": "code",
      "source": [
        "\n",
        "import os\n",
        "print(os.getcwd())\n",
        "os.listdir()\n"
      ],
      "metadata": {
        "colab": {
          "base_uri": "https://localhost:8080/"
        },
        "id": "hLnZVxgQF_O4",
        "outputId": "9a10b99d-4537-4ce2-d3ff-924069cba706"
      },
      "execution_count": 9,
      "outputs": [
        {
          "output_type": "stream",
          "name": "stdout",
          "text": [
            "/content\n"
          ]
        },
        {
          "output_type": "execute_result",
          "data": {
            "text/plain": [
              "['.config', 'sample_data']"
            ]
          },
          "metadata": {},
          "execution_count": 9
        }
      ]
    },
    {
      "cell_type": "code",
      "source": [
        "import pandas as pd\n",
        "\n",
        "df = pd.DataFrame({'A': [0, 1],\n",
        "                   'B': [5, 6],\n",
        "                   'C': [6, 9]})\n",
        "#df.to_csv(index=False)\n",
        "\n",
        "\n",
        "\n",
        "df.to_csv('output2.csv', encoding = 'utf-8-sig',index=False)\n",
        "\n",
        "#df.to_csv('output2.csv', encoding = 'utf-8-sig')\n",
        "\n",
        "\n",
        "print(df)\n",
        "\n",
        "print('.......................')\n",
        "print(os.getcwd())\n",
        "os.listdir()\n",
        "\n",
        "# download file from colab\n",
        "from google.colab import files\n",
        "files.download('output2.csv')\n",
        "\n",
        "loaded_csv2 = pd.read_csv('output2.csv')\n",
        "\n",
        "print(loaded_csv2)\n",
        "print(loaded_csv2.to_string())"
      ],
      "metadata": {
        "colab": {
          "base_uri": "https://localhost:8080/",
          "height": 208
        },
        "id": "EEZ_wT0EO0hw",
        "outputId": "41168156-efc4-48cf-ffb6-06bf69e73393"
      },
      "execution_count": 10,
      "outputs": [
        {
          "output_type": "stream",
          "name": "stdout",
          "text": [
            "   A  B  C\n",
            "0  0  5  6\n",
            "1  1  6  9\n",
            ".......................\n",
            "/content\n"
          ]
        },
        {
          "output_type": "display_data",
          "data": {
            "text/plain": [
              "<IPython.core.display.Javascript object>"
            ],
            "application/javascript": [
              "\n",
              "    async function download(id, filename, size) {\n",
              "      if (!google.colab.kernel.accessAllowed) {\n",
              "        return;\n",
              "      }\n",
              "      const div = document.createElement('div');\n",
              "      const label = document.createElement('label');\n",
              "      label.textContent = `Downloading \"${filename}\": `;\n",
              "      div.appendChild(label);\n",
              "      const progress = document.createElement('progress');\n",
              "      progress.max = size;\n",
              "      div.appendChild(progress);\n",
              "      document.body.appendChild(div);\n",
              "\n",
              "      const buffers = [];\n",
              "      let downloaded = 0;\n",
              "\n",
              "      const channel = await google.colab.kernel.comms.open(id);\n",
              "      // Send a message to notify the kernel that we're ready.\n",
              "      channel.send({})\n",
              "\n",
              "      for await (const message of channel.messages) {\n",
              "        // Send a message to notify the kernel that we're ready.\n",
              "        channel.send({})\n",
              "        if (message.buffers) {\n",
              "          for (const buffer of message.buffers) {\n",
              "            buffers.push(buffer);\n",
              "            downloaded += buffer.byteLength;\n",
              "            progress.value = downloaded;\n",
              "          }\n",
              "        }\n",
              "      }\n",
              "      const blob = new Blob(buffers, {type: 'application/binary'});\n",
              "      const a = document.createElement('a');\n",
              "      a.href = window.URL.createObjectURL(blob);\n",
              "      a.download = filename;\n",
              "      div.appendChild(a);\n",
              "      a.click();\n",
              "      div.remove();\n",
              "    }\n",
              "  "
            ]
          },
          "metadata": {}
        },
        {
          "output_type": "display_data",
          "data": {
            "text/plain": [
              "<IPython.core.display.Javascript object>"
            ],
            "application/javascript": [
              "download(\"download_480f1161-7955-4c3d-9b4b-0198dca97f1f\", \"output2.csv\", 21)"
            ]
          },
          "metadata": {}
        },
        {
          "output_type": "stream",
          "name": "stdout",
          "text": [
            "   A  B  C\n",
            "0  0  5  6\n",
            "1  1  6  9\n",
            "   A  B  C\n",
            "0  0  5  6\n",
            "1  1  6  9\n"
          ]
        }
      ]
    },
    {
      "cell_type": "code",
      "source": [
        "# Numpy\n",
        "# A list is an ordered collection of elements, where each element has a specific index starting from 0.\n",
        "# Lists are mutable, meaning you can add, remove, or modify elements after creating the list.\n",
        "# The elements in a list can be accessed by their index values.\n",
        "# The indexes of a list are always integers.\n",
        "# A list can hold duplicate values."
      ],
      "metadata": {
        "id": "RiV6r5nG045q"
      },
      "execution_count": null,
      "outputs": []
    }
  ]
}