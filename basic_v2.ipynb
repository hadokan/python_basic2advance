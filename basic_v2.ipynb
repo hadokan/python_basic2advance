{
  "nbformat": 4,
  "nbformat_minor": 0,
  "metadata": {
    "colab": {
      "provenance": [],
      "authorship_tag": "ABX9TyPGqAsQ93hVIbKsMk38k3Yn",
      "include_colab_link": true
    },
    "kernelspec": {
      "name": "python3",
      "display_name": "Python 3"
    },
    "language_info": {
      "name": "python"
    }
  },
  "cells": [
    {
      "cell_type": "markdown",
      "metadata": {
        "id": "view-in-github",
        "colab_type": "text"
      },
      "source": [
        "<a href=\"https://colab.research.google.com/github/hadokan/python_basics/blob/main/basic_v2.ipynb\" target=\"_parent\"><img src=\"https://colab.research.google.com/assets/colab-badge.svg\" alt=\"Open In Colab\"/></a>"
      ]
    },
    {
      "cell_type": "code",
      "execution_count": 26,
      "metadata": {
        "colab": {
          "base_uri": "https://localhost:8080/"
        },
        "id": "LN-a6ZqjTlk4",
        "outputId": "4c5c244d-2c52-4db5-fd05-9b2c54197579"
      },
      "outputs": [
        {
          "output_type": "stream",
          "name": "stdout",
          "text": [
            "5 is of type <class 'int'>\n",
            "2.0 is of type <class 'float'>\n",
            "(1+2j) is of type <class 'complex'>\n"
          ]
        }
      ],
      "source": [
        "# We do not need to declare variables before using them.\n",
        "num1 = 5\n",
        "print(num1, 'is of type', type(num1))\n",
        "\n",
        "num2 = 2.0\n",
        "print(num2, 'is of type', type(num2))\n",
        "\n",
        "num3 = 1+2j\n",
        "print(num3, 'is of type', type(num3))"
      ]
    },
    {
      "cell_type": "code",
      "source": [
        "# Notes\n",
        "# Lists are used to store multiple data.\n",
        "# List with elements of different data types is possible.\n",
        "# List with duplicate elements is possible.\n",
        "# Empty list could be define as listx = []\n",
        "# The list index always starts with 0.\n",
        "# Python allows negative indexing for its sequences.\n",
        "# The index of -1 refers to the last item, -2 to the second last item and so on.\n",
        "\n",
        "listX = [\"X\", \"Y\", 3]\n",
        "\n",
        "# access element at index 0\n",
        "print(listX[0])   # X\n",
        "\n",
        "# access element at index 2\n",
        "print(listX[2])   # Y\n",
        "\n",
        "print(listX, 'is of type', type(listX))\n",
        "print(listX[2], 'is of type', type(listX[2]))\n",
        "\n",
        "listX[2]='A'\n",
        "print(listX[2])\n"
      ],
      "metadata": {
        "colab": {
          "base_uri": "https://localhost:8080/"
        },
        "id": "SAEqxZ-zT0qj",
        "outputId": "2d54111e-c4ce-41ee-f078-69df0140189d"
      },
      "execution_count": 27,
      "outputs": [
        {
          "output_type": "stream",
          "name": "stdout",
          "text": [
            "X\n",
            "3\n",
            "['X', 'Y', 3] is of type <class 'list'>\n",
            "3 is of type <class 'int'>\n",
            "A\n"
          ]
        }
      ]
    },
    {
      "cell_type": "code",
      "source": [
        "# it is possible to access a portion of a list using the slicing operator :. For example,\n",
        "my_list = ['h','a','k','a','n','d','o','g','a','n']\n",
        "\n",
        "# items from index 2 to index 4\n",
        "print(my_list[2:5])\n",
        "\n",
        "# items from index 5 to end\n",
        "print(my_list[5:])\n",
        "\n",
        "# items beginning to end\n",
        "print(my_list[:])"
      ],
      "metadata": {
        "colab": {
          "base_uri": "https://localhost:8080/"
        },
        "id": "JTahD94vwmDa",
        "outputId": "15306f4e-ee46-4e4c-a76f-40b6215ef187"
      },
      "execution_count": 28,
      "outputs": [
        {
          "output_type": "stream",
          "name": "stdout",
          "text": [
            "['k', 'a', 'n']\n",
            "['d', 'o', 'g', 'a', 'n']\n",
            "['h', 'a', 'k', 'a', 'n', 'd', 'o', 'g', 'a', 'n']\n"
          ]
        }
      ]
    },
    {
      "cell_type": "code",
      "source": [
        "numbers = [211, 134, 154, 612]\n",
        "\n",
        "print(\"Before Append:\", numbers)\n",
        "\n",
        "# using append method\n",
        "numbers.append(0)\n",
        "\n",
        "print(\"After Append:\", numbers)"
      ],
      "metadata": {
        "colab": {
          "base_uri": "https://localhost:8080/"
        },
        "id": "OuPLd2nrw90k",
        "outputId": "ddd0f569-b348-4ef0-b734-0d44adc86149"
      },
      "execution_count": 29,
      "outputs": [
        {
          "output_type": "stream",
          "name": "stdout",
          "text": [
            "Before Append: [211, 134, 154, 612]\n",
            "After Append: [211, 134, 154, 612, 0]\n"
          ]
        }
      ]
    },
    {
      "cell_type": "code",
      "source": [
        "numbers = [1, 3, 5, 7]\n",
        "\n",
        "even_numbers = [6, 8, 10]\n",
        "\n",
        "# extent it\n",
        "numbers.extend(even_numbers)\n",
        "\n",
        "print(\"List after extend:\", numbers)"
      ],
      "metadata": {
        "colab": {
          "base_uri": "https://localhost:8080/"
        },
        "id": "k14cSz3sxF8j",
        "outputId": "7d595a1e-ac38-449f-fd93-d1a77eddb6c3"
      },
      "execution_count": 30,
      "outputs": [
        {
          "output_type": "stream",
          "name": "stdout",
          "text": [
            "List after extend: [1, 3, 5, 7, 6, 8, 10]\n"
          ]
        }
      ]
    },
    {
      "cell_type": "code",
      "source": [
        "numbers = [100, 300, 2000]\n",
        "\n",
        "# insert an element at index 1 (second position)\n",
        "numbers.insert(2, 'A')\n",
        "numbers.insert(3, 315)\n",
        "\n",
        "print(numbers) # [10, 20, 30, 40]"
      ],
      "metadata": {
        "colab": {
          "base_uri": "https://localhost:8080/"
        },
        "id": "jgWfc_CyyEph",
        "outputId": "a1de3631-4bba-448e-ec74-2ff8b376c22c"
      },
      "execution_count": 31,
      "outputs": [
        {
          "output_type": "stream",
          "name": "stdout",
          "text": [
            "[100, 300, 'A', 315, 2000]\n"
          ]
        }
      ]
    },
    {
      "cell_type": "code",
      "source": [
        "XX = ['A', 'B', 'C', 'D', 'E', 'F', 'G']\n",
        "\n",
        "# deleting the second item  \"B\"\n",
        "del XX[1]\n",
        "print(XX)"
      ],
      "metadata": {
        "colab": {
          "base_uri": "https://localhost:8080/"
        },
        "id": "d5hjAGdUyhKC",
        "outputId": "13ca2ee3-d1e1-4d50-da4c-28cb96a49039"
      },
      "execution_count": 32,
      "outputs": [
        {
          "output_type": "stream",
          "name": "stdout",
          "text": [
            "['A', 'C', 'D', 'E', 'F', 'G']\n"
          ]
        }
      ]
    },
    {
      "cell_type": "code",
      "source": [
        "# A tuple is created by placing all the items (elements) inside parentheses (), separated by commas.\n",
        "# The parentheses are optional.\n",
        "\n",
        "#product = ('X', 'Y' , 3)\n",
        "product = 'X', 'Y' , 3\n",
        "\n",
        "# access element at index 0\n",
        "print(product[0])   # X\n",
        "\n",
        "# access element at index 1\n",
        "print(product[1])   # Y\n",
        "\n",
        "#Tuples are immutable. Tuples cannot be modified.\n",
        "#product[2]='A'\n",
        "#print(product[2])"
      ],
      "metadata": {
        "colab": {
          "base_uri": "https://localhost:8080/"
        },
        "id": "04lyTGSrUiLh",
        "outputId": "0a9f99c5-8cea-4064-a88d-dfa253054f4c"
      },
      "execution_count": 33,
      "outputs": [
        {
          "output_type": "stream",
          "name": "stdout",
          "text": [
            "X\n",
            "Y\n"
          ]
        }
      ]
    },
    {
      "cell_type": "code",
      "source": [
        "# In general, we use tuples for different data types and lists for similar data types.\n",
        "# Tuples are immutable, iterating through a tuple is faster than with a list. There may be a slight performance boost.\n",
        "# Tuples that contain immutable elements can be used as a key for a dictionary. With lists, this is not possible.\n",
        "# If you have data that doesn't change, implementing it as tuple will guarantee that it remains write-protected."
      ],
      "metadata": {
        "id": "fx80nsdr0mD3"
      },
      "execution_count": 34,
      "outputs": []
    },
    {
      "cell_type": "code",
      "source": [
        "# Strings are immutable. That means the characters of a string cannot be changed.\n",
        "\n",
        "name = 'Python'\n",
        "print(name)\n",
        "\n",
        "message = 'Python for VASP'\n",
        "print(message)\n",
        "\n",
        "# message[1]='a'  --> TypeError: 'str' object does not support item assignment"
      ],
      "metadata": {
        "colab": {
          "base_uri": "https://localhost:8080/"
        },
        "id": "BbU6Vpmbeqen",
        "outputId": "fd080e7e-3249-4c87-d768-17ed7979d6c2"
      },
      "execution_count": 35,
      "outputs": [
        {
          "output_type": "stream",
          "name": "stdout",
          "text": [
            "Python\n",
            "Python for VASP\n"
          ]
        }
      ]
    },
    {
      "cell_type": "code",
      "source": [
        "# multiline string\n",
        "message = \"\"\"\n",
        "Bu program Araç Yol Optimizasyonudur\n",
        "Lütfen Seçim Yapınız\n",
        "\"\"\"\n",
        "\n",
        "print(message)"
      ],
      "metadata": {
        "colab": {
          "base_uri": "https://localhost:8080/"
        },
        "id": "vUq0eBFn3VKC",
        "outputId": "e2ba63a8-44d8-46f7-c498-97188bfc44e7"
      },
      "execution_count": 36,
      "outputs": [
        {
          "output_type": "stream",
          "name": "stdout",
          "text": [
            "\n",
            "Bu program Araç Yol Optimizasyonudur\n",
            "Lütfen Seçim Yapınız\n",
            "\n"
          ]
        }
      ]
    },
    {
      "cell_type": "code",
      "source": [
        "greet = \"Merhaba, \"\n",
        "name = \"Hakan\"\n",
        "\n",
        "# using + operator\n",
        "result = greet + name\n",
        "print(result)\n",
        "\n",
        "# Output: Hello, Jack"
      ],
      "metadata": {
        "id": "C7OpBRi_3uK8",
        "outputId": "5e602fbe-21a9-4421-a9b0-46fcaf79595c",
        "colab": {
          "base_uri": "https://localhost:8080/"
        }
      },
      "execution_count": 37,
      "outputs": [
        {
          "output_type": "stream",
          "name": "stdout",
          "text": [
            "Merhaba, Hakan\n"
          ]
        }
      ]
    },
    {
      "cell_type": "code",
      "source": [
        "# create a set named student_id\n",
        "student_id = {1122, 4124, 4126, 3118, 2215}\n",
        "\n",
        "# display student_id elements\n",
        "print(student_id)\n",
        "\n",
        "# display type of student_id\n",
        "print(type(student_id))\n",
        "\n",
        "#student_id[0]  -->Error"
      ],
      "metadata": {
        "colab": {
          "base_uri": "https://localhost:8080/"
        },
        "id": "r505P3zzfBAi",
        "outputId": "8c852aec-fb2e-4720-fcc6-dac720fb9292"
      },
      "execution_count": 38,
      "outputs": [
        {
          "output_type": "stream",
          "name": "stdout",
          "text": [
            "{1122, 2215, 4126, 4124, 3118}\n",
            "<class 'set'>\n"
          ]
        }
      ]
    },
    {
      "cell_type": "code",
      "source": [
        "# first set\n",
        "A = {1, 3, 5}\n",
        "\n",
        "# second set\n",
        "B = {1, 2, 3}\n",
        "\n",
        "#A = [1, 3, 5]\n",
        "#B = [1, 2, 3]\n",
        "# --> AttributeError: 'list' object has no attribute 'intersection'\n",
        "\n",
        "# perform intersection operation using &\n",
        "#print('Intersection using &:', A & B)\n",
        "\n",
        "# perform intersection operation using intersection()\n",
        "print('Intersection using intersection():', A.intersection(B))\n"
      ],
      "metadata": {
        "colab": {
          "base_uri": "https://localhost:8080/"
        },
        "id": "pmV-k5dnmlfY",
        "outputId": "67cbd89a-9bcf-46d7-b3f2-502e3ec8d811"
      },
      "execution_count": 39,
      "outputs": [
        {
          "output_type": "stream",
          "name": "stdout",
          "text": [
            "Intersection using intersection(): {1, 3}\n"
          ]
        }
      ]
    },
    {
      "cell_type": "code",
      "source": [
        "# create a dictionary named XX\n",
        "password_XX = {'hakan': '0011', 'alex': '0901', 'nick': '0007'}\n",
        "\n",
        "print(password_XX)\n",
        "\n",
        "print(password_XX['hakan'])  # prints 0011\n",
        "\n",
        "#print(password_XX['0901'])  # error message  KeyError: '0901'"
      ],
      "metadata": {
        "colab": {
          "base_uri": "https://localhost:8080/"
        },
        "id": "zkUDgOzSrAks",
        "outputId": "aca6fc81-a300-4e6e-d143-9fceccc69245"
      },
      "execution_count": 40,
      "outputs": [
        {
          "output_type": "stream",
          "name": "stdout",
          "text": [
            "{'hakan': '0011', 'alex': '0901', 'nick': '0007'}\n",
            "0011\n"
          ]
        }
      ]
    }
  ]
}