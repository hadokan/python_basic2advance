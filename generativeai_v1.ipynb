{
  "nbformat": 4,
  "nbformat_minor": 0,
  "metadata": {
    "colab": {
      "provenance": [],
      "authorship_tag": "ABX9TyOPwXxseoh3h1sDaW/bD4qL",
      "include_colab_link": true
    },
    "kernelspec": {
      "name": "python3",
      "display_name": "Python 3"
    },
    "language_info": {
      "name": "python"
    }
  },
  "cells": [
    {
      "cell_type": "markdown",
      "metadata": {
        "id": "view-in-github",
        "colab_type": "text"
      },
      "source": [
        "<a href=\"https://colab.research.google.com/github/hadokan/python_basic2advance/blob/main/generativeai_v1.ipynb\" target=\"_parent\"><img src=\"https://colab.research.google.com/assets/colab-badge.svg\" alt=\"Open In Colab\"/></a>"
      ]
    },
    {
      "cell_type": "code",
      "execution_count": null,
      "metadata": {
        "colab": {
          "base_uri": "https://localhost:8080/"
        },
        "id": "u-z1L8yRBteI",
        "outputId": "7d067d9c-359f-4dba-f872-ff9a1dd3b99b"
      },
      "outputs": [
        {
          "output_type": "stream",
          "name": "stdout",
          "text": [
            "9\n"
          ]
        }
      ],
      "source": [
        "# prompt: sum two numbers\n",
        "\n",
        "a = 4\n",
        "b = 5\n",
        "print(a + b)\n"
      ]
    },
    {
      "cell_type": "code",
      "source": [
        "# prompt: apply k means  clustering for random generated ten numbers and shows clusters\n",
        "\n",
        "from sklearn.cluster import KMeans\n",
        "import numpy as np\n",
        "import matplotlib.pyplot as plt\n",
        "\n",
        "# Generate random data\n",
        "X = np.random.rand(10, 2)\n",
        "\n",
        "# Create a KMeans model\n",
        "kmeans = KMeans(n_clusters=3)\n",
        "\n",
        "# Fit the model to the data\n",
        "kmeans.fit(X)\n",
        "\n",
        "# Get the cluster labels\n",
        "labels = kmeans.labels_\n",
        "\n",
        "# Plot the data with different colors for each cluster\n",
        "plt.scatter(X[:, 0], X[:, 1], c=labels)\n",
        "plt.show()\n"
      ],
      "metadata": {
        "id": "1UH1oM1GCp8O",
        "outputId": "2508e04a-5d92-462a-8fe8-59f77d8b82fc",
        "colab": {
          "base_uri": "https://localhost:8080/",
          "height": 485
        }
      },
      "execution_count": 5,
      "outputs": [
        {
          "output_type": "stream",
          "name": "stderr",
          "text": [
            "/usr/local/lib/python3.10/dist-packages/sklearn/cluster/_kmeans.py:870: FutureWarning: The default value of `n_init` will change from 10 to 'auto' in 1.4. Set the value of `n_init` explicitly to suppress the warning\n",
            "  warnings.warn(\n"
          ]
        },
        {
          "output_type": "display_data",
          "data": {
            "text/plain": [
              "<Figure size 640x480 with 1 Axes>"
            ],
            "image/png": "[encoded data removed]"
          },
          "metadata": {}
        }
      ]
    }
  ]
}