{
  "nbformat": 4,
  "nbformat_minor": 0,
  "metadata": {
    "colab": {
      "provenance": [],
      "authorship_tag": "ABX9TyP82R/S9ZvppiJKEBJmNuVw",
      "include_colab_link": true
    },
    "kernelspec": {
      "name": "python3",
      "display_name": "Python 3"
    },
    "language_info": {
      "name": "python"
    }
  },
  "cells": [
    {
      "cell_type": "markdown",
      "metadata": {
        "id": "view-in-github",
        "colab_type": "text"
      },
      "source": [
        "<a href=\"https://colab.research.google.com/github/hadokan/python_basics/blob/main/python_loops_v1.ipynb\" target=\"_parent\"><img src=\"https://colab.research.google.com/assets/colab-badge.svg\" alt=\"Open In Colab\"/></a>"
      ]
    },
    {
      "cell_type": "code",
      "execution_count": 16,
      "metadata": {
        "colab": {
          "base_uri": "https://localhost:8080/"
        },
        "id": "mZTNrtm3K8aX",
        "outputId": "d5bebf92-f914-44f7-c788-a4bbaf905bd8"
      },
      "outputs": [
        {
          "output_type": "stream",
          "name": "stdout",
          "text": [
            "Human resources\n",
            "Operations management department\n",
            "Information technology department\n"
          ]
        }
      ],
      "source": [
        "departments = ['Human resources', 'Operations management department', 'Information technology department']\n",
        "\n",
        "# run a loop for each item of the list\n",
        "for ne in departments:\n",
        "    print(ne)"
      ]
    },
    {
      "cell_type": "code",
      "source": [
        "# create a sequence of numbers from 0 to 3\n",
        "numbers = range(4)\n",
        "\n",
        "# iterating through the sequence of numbers\n",
        "for i in numbers:\n",
        "    print(i)"
      ],
      "metadata": {
        "colab": {
          "base_uri": "https://localhost:8080/"
        },
        "id": "9nycMFC4Mtuw",
        "outputId": "7ccbba5b-e735-4023-ca2e-a3c16044c91f"
      },
      "execution_count": 17,
      "outputs": [
        {
          "output_type": "stream",
          "name": "stdout",
          "text": [
            "0\n",
            "1\n",
            "2\n",
            "3\n"
          ]
        }
      ]
    },
    {
      "cell_type": "code",
      "source": [
        "for x in 'Hakan':\n",
        "    print(x)"
      ],
      "metadata": {
        "colab": {
          "base_uri": "https://localhost:8080/"
        },
        "id": "hy-M_1xQLJIG",
        "outputId": "6af6e3bb-9e7d-4fe1-cd95-d4a05a23a5e0"
      },
      "execution_count": 18,
      "outputs": [
        {
          "output_type": "stream",
          "name": "stdout",
          "text": [
            "H\n",
            "a\n",
            "k\n",
            "a\n",
            "n\n"
          ]
        }
      ]
    },
    {
      "cell_type": "code",
      "source": [
        "languages = ['x', 'y', 'z']\n",
        "\n",
        "for language in languages:\n",
        "    print('1')\n",
        "    print('...')"
      ],
      "metadata": {
        "colab": {
          "base_uri": "https://localhost:8080/"
        },
        "id": "hL7jgWmuL_CI",
        "outputId": "448ded78-d0a1-4f50-a31a-946171afb5a1"
      },
      "execution_count": 19,
      "outputs": [
        {
          "output_type": "stream",
          "name": "stdout",
          "text": [
            "1\n",
            "...\n",
            "1\n",
            "...\n",
            "1\n",
            "...\n"
          ]
        }
      ]
    },
    {
      "cell_type": "code",
      "source": [
        "digits = [2, 3, 5]\n",
        "\n",
        "for i in digits:\n",
        "    print(i)\n",
        "else:\n",
        "    print(\"No items left.\")"
      ],
      "metadata": {
        "colab": {
          "base_uri": "https://localhost:8080/"
        },
        "id": "NOwoZvEmMUoU",
        "outputId": "798c3b66-e91e-42d6-942d-f7cb12020f1f"
      },
      "execution_count": 20,
      "outputs": [
        {
          "output_type": "stream",
          "name": "stdout",
          "text": [
            "2\n",
            "3\n",
            "5\n",
            "No items left.\n"
          ]
        }
      ]
    },
    {
      "cell_type": "code",
      "source": [
        "age = 32\n",
        "\n",
        "# the test condition is always True\n",
        "#while age > 18:\n",
        "    #print('You can vote')"
      ],
      "metadata": {
        "id": "p5Kk_fhSNY0y"
      },
      "execution_count": 21,
      "outputs": []
    },
    {
      "cell_type": "code",
      "source": [
        "# program to display numbers from 1 to 5\n",
        "\n",
        "# initialize the variable\n",
        "i = 1\n",
        "n = 5\n",
        "\n",
        "# while loop from i = 1 to 5\n",
        "while i <= n:\n",
        "    print(i)\n",
        "    i = i + 1"
      ],
      "metadata": {
        "colab": {
          "base_uri": "https://localhost:8080/"
        },
        "id": "ajJOd5cnMhb7",
        "outputId": "4bd91a0a-0482-43d9-b405-00e8ce883361"
      },
      "execution_count": 22,
      "outputs": [
        {
          "output_type": "stream",
          "name": "stdout",
          "text": [
            "1\n",
            "2\n",
            "3\n",
            "4\n",
            "5\n"
          ]
        }
      ]
    },
    {
      "cell_type": "code",
      "source": [
        "# To calculate the sum of numbers until the user enters zero\n",
        "\n",
        "total = 0\n",
        "\n",
        "number = int(input('Enter a number: '))\n",
        "\n",
        "# add numbers until number is 99\n",
        "while number != 99:\n",
        "    total += number    # total = total + number\n",
        "\n",
        "    # take integer input again\n",
        "    number = int(input('Enter a number: '))\n",
        "\n",
        "\n",
        "print('total =', total)"
      ],
      "metadata": {
        "colab": {
          "base_uri": "https://localhost:8080/"
        },
        "id": "c8ptzwWZM983",
        "outputId": "d339000b-1264-482e-bd3e-aa70a3dea4b9"
      },
      "execution_count": 31,
      "outputs": [
        {
          "output_type": "stream",
          "name": "stdout",
          "text": [
            "Enter a number: 6\n",
            "Enter a number: 4\n",
            "Enter a number: 0\n",
            "Enter a number: 99\n",
            "total = 10\n"
          ]
        }
      ]
    },
    {
      "cell_type": "code",
      "source": [
        "counter = 0\n",
        "\n",
        "while counter < 2:\n",
        "    print('Inside loop',counter)\n",
        "    counter = counter + 1\n",
        "else:\n",
        "    print('Inside else')"
      ],
      "metadata": {
        "colab": {
          "base_uri": "https://localhost:8080/"
        },
        "id": "PlNtADPtN1kb",
        "outputId": "521244a9-4422-4876-a7c8-ae27eed6cb28"
      },
      "execution_count": 33,
      "outputs": [
        {
          "output_type": "stream",
          "name": "stdout",
          "text": [
            "Inside loop 0\n",
            "Inside loop 1\n",
            "Inside else\n"
          ]
        }
      ]
    },
    {
      "cell_type": "code",
      "source": [
        "counter = 0\n",
        "\n",
        "while counter < 7:\n",
        "    # loop ends because of break\n",
        "    # the else part is not executed\n",
        "    if counter == 3:\n",
        "        break\n",
        "\n",
        "    print('Inside loop',counter)\n",
        "    counter = counter + 1\n",
        "else:\n",
        "    print('Inside else')"
      ],
      "metadata": {
        "id": "1H7Ykaw0OBbV",
        "outputId": "c0ffbf0c-afa8-4f58-d50b-85dc0a10c873",
        "colab": {
          "base_uri": "https://localhost:8080/"
        }
      },
      "execution_count": 35,
      "outputs": [
        {
          "output_type": "stream",
          "name": "stdout",
          "text": [
            "Inside loop 0\n",
            "Inside loop 1\n",
            "Inside loop 2\n"
          ]
        }
      ]
    }
  ]
}