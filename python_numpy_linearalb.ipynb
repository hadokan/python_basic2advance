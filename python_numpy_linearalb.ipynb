{
  "nbformat": 4,
  "nbformat_minor": 0,
  "metadata": {
    "colab": {
      "provenance": [],
      "authorship_tag": "ABX9TyOnaQ1A+bMp+g4CK+Bwre5S",
      "include_colab_link": true
    },
    "kernelspec": {
      "name": "python3",
      "display_name": "Python 3"
    },
    "language_info": {
      "name": "python"
    }
  },
  "cells": [
    {
      "cell_type": "markdown",
      "metadata": {
        "id": "view-in-github",
        "colab_type": "text"
      },
      "source": [
        "<a href=\"https://colab.research.google.com/github/hadokan/python_basics/blob/main/python_numpy_linearalb.ipynb\" target=\"_parent\"><img src=\"https://colab.research.google.com/assets/colab-badge.svg\" alt=\"Open In Colab\"/></a>"
      ]
    },
    {
      "cell_type": "code",
      "execution_count": null,
      "metadata": {
        "id": "hMYTsv4-RUn8"
      },
      "outputs": [],
      "source": [
        "import numpy as np\n",
        "\n",
        "# define a square matrix\n",
        "arrayX = np.array([[1, 3, 5],\n",
        "                  [5, 17, 9],[11,13,15]])\n",
        "\n",
        "# compute the determinant of array1\n",
        "resultX = np.linalg.det(arrayX)\n",
        "\n",
        "print(resultX)"
      ]
    },
    {
      "cell_type": "code",
      "source": [
        "import numpy as np\n",
        "\n",
        "# solve the system of linear equations Ax = b\n",
        "\n",
        "# define the coefficient matrix A\n",
        "A = np.array([[1, 3],\n",
        "             [6, 8]])\n",
        "\n",
        "# define the constant vector b\n",
        "b = np.array([2, 7])\n",
        "\n",
        "# solve the system of linear equations Ax = b\n",
        "x = np.linalg.solve(A, b)\n",
        "\n",
        "print(x)\n"
      ],
      "metadata": {
        "colab": {
          "base_uri": "https://localhost:8080/"
        },
        "id": "UREvj4AdRZHR",
        "outputId": "758301c4-53fb-4ddf-cffa-c0be2386b2eb"
      },
      "execution_count": 2,
      "outputs": [
        {
          "output_type": "stream",
          "name": "stdout",
          "text": [
            "[0.5 0.5]\n"
          ]
        }
      ]
    },
    {
      "cell_type": "code",
      "source": [
        "import numpy as np\n",
        "\n",
        "# define a 2x2 matrix\n",
        "arrayX = np.array([[1, 5],\n",
        "                  [6, 3]])\n",
        "\n",
        "# the inverse of the matrix is calculated as\n",
        "result = np.linalg.inv(arrayX)\n",
        "\n",
        "print(result)"
      ],
      "metadata": {
        "colab": {
          "base_uri": "https://localhost:8080/"
        },
        "id": "tLKmznASbSNQ",
        "outputId": "1e190bc4-c2be-45f5-c158-763a3fcc6846"
      },
      "execution_count": 3,
      "outputs": [
        {
          "output_type": "stream",
          "name": "stdout",
          "text": [
            "[[-0.11111111  0.18518519]\n",
            " [ 0.22222222 -0.03703704]]\n"
          ]
        }
      ]
    },
    {
      "cell_type": "code",
      "source": [
        "#dot()\t  calculates product of two arrays\n",
        "#inner()\tcalculates inner product of arrays\n",
        "#outer()\tcalculates outer product of arrays\n",
        "#trace()\tcalculates the sum of diagonal elements"
      ],
      "metadata": {
        "id": "-E40UW3X-V0Q"
      },
      "execution_count": null,
      "outputs": []
    }
  ]
}