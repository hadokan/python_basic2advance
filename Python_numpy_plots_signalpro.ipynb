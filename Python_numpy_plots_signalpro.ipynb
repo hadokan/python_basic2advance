{
  "nbformat": 4,
  "nbformat_minor": 0,
  "metadata": {
    "colab": {
      "provenance": [],
      "authorship_tag": "ABX9TyOKqjLhornbzbKNKXOUN0nU",
      "include_colab_link": true
    },
    "kernelspec": {
      "name": "python3",
      "display_name": "Python 3"
    },
    "language_info": {
      "name": "python"
    }
  },
  "cells": [
    {
      "cell_type": "markdown",
      "metadata": {
        "id": "view-in-github",
        "colab_type": "text"
      },
      "source": [
        "<a href=\"https://colab.research.google.com/github/hadokan/python_basics/blob/main/Python_numpy_plots_signalpro.ipynb\" target=\"_parent\"><img src=\"https://colab.research.google.com/assets/colab-badge.svg\" alt=\"Open In Colab\"/></a>"
      ]
    },
    {
      "cell_type": "code",
      "execution_count": null,
      "metadata": {
        "colab": {
          "base_uri": "https://localhost:8080/",
          "height": 499
        },
        "id": "xL78bBg_-48Z",
        "outputId": "7f0a8edf-c4aa-4bc3-9cb0-e961ce1d1690"
      },
      "outputs": [
        {
          "output_type": "stream",
          "name": "stdout",
          "text": [
            "(array([6, 3, 1, 4]), array([ 0, 10, 20, 30, 40]))\n"
          ]
        },
        {
          "output_type": "execute_result",
          "data": {
            "text/plain": [
              "(array([6., 3., 1., 4.]),\n",
              " array([ 0., 10., 20., 30., 40.]),\n",
              " <BarContainer object of 4 artists>)"
            ]
          },
          "metadata": {},
          "execution_count": 11
        },
        {
          "output_type": "display_data",
          "data": {
            "text/plain": [
              "<Figure size 640x480 with 1 Axes>"
            ],
            "image/png": "[encoded data removed]"
          },
          "metadata": {}
        }
      ],
      "source": [
        "import numpy as np\n",
        "from matplotlib import pyplot as plt\n",
        "# create an array of data\n",
        "data = np.array([1,2,4,3,5,9, 10, 15, 18, 20,30,31,32,40])\n",
        "\n",
        "# create bin to set the interval\n",
        "bins = [0,10,20,30,40]\n",
        "\n",
        "# create histogram\n",
        "graph = np.histogram(data, bins)\n",
        "\n",
        "print(graph)\n",
        "\n",
        "# plot histogram\n",
        "plt.hist(data, bins)\n",
        "\n",
        "#plt.show()"
      ]
    },
    {
      "cell_type": "code",
      "source": [
        "import numpy as np\n",
        "\n",
        "week = np.array([1, 2, 4, 7])\n",
        "sales = np.array([10, 20, 40, 70])\n",
        "\n",
        "# find the sale on day 5\n",
        "sale_int = np.interp(5, week, sales)\n",
        "\n",
        "print(\"Sales on day 5 is\", sale_int)\n",
        "\n",
        "# days whose value is to be interpolated\n",
        "interpolate_values = np.array([1.5, 3, 5, 6,99])\n",
        "\n",
        "interpolated_sales= np.interp(interpolate_values, week, sales)\n",
        "\n",
        "print(interpolated_sales)"
      ],
      "metadata": {
        "colab": {
          "base_uri": "https://localhost:8080/"
        },
        "id": "cd6AE6yCDEBr",
        "outputId": "9baf6f1c-6d81-4888-d704-be4cb93df0c6"
      },
      "execution_count": null,
      "outputs": [
        {
          "output_type": "stream",
          "name": "stdout",
          "text": [
            "Sales on day 5 is 50.0\n",
            "[15. 30. 50. 60. 70.]\n"
          ]
        }
      ]
    },
    {
      "cell_type": "code",
      "source": [
        "import numpy as np\n",
        "\n",
        "day = np.array([2, 4, 7, 10])\n",
        "sales = np.array([55, 58, 65, 70])\n",
        "\n",
        "# days whose value is to be interpolated\n",
        "inter_sales = np.array([1, 3, 4, 6, 8, 9,15])\n",
        "\n",
        "inter_salesX= np.interp(inter_sales, day, sales)\n",
        "\n",
        "print(inter_salesX)"
      ],
      "metadata": {
        "id": "NHaUKWBQE0xU",
        "colab": {
          "base_uri": "https://localhost:8080/"
        },
        "outputId": "163e20aa-bd33-40ce-b209-8e256202b1ab"
      },
      "execution_count": 3,
      "outputs": [
        {
          "output_type": "stream",
          "name": "stdout",
          "text": [
            "[55.         56.5        58.         62.66666667 66.66666667 68.33333333\n",
            " 70.        ]\n"
          ]
        }
      ]
    },
    {
      "cell_type": "code",
      "source": [
        "import numpy as np\n",
        "import matplotlib.pyplot as plt\n",
        "\n",
        "# arrays with random data points\n",
        "x = np.array([0, 1, 2, 3, 4, 5,6])\n",
        "y = np.array([1, 3, 8, 6, 7, 9,11])\n",
        "\n",
        "# Evenly spaced values between the minimum and maximum x values\n",
        "x_interp = np.linspace(x.min(), x.max(), 100)\n",
        "\n",
        "# Use interp() fuction to interpolate y values\n",
        "y_interp = np.interp(x_interp, x, y)\n",
        "\n",
        "# plot the original data points and the interpolated values\n",
        "plt.plot(x, y, 'bx')\n",
        "plt.plot(x_interp, y_interp, 'r--')\n",
        "\n",
        "plt.show()"
      ],
      "metadata": {
        "colab": {
          "base_uri": "https://localhost:8080/",
          "height": 430
        },
        "id": "lk7SO6LtGu6d",
        "outputId": "c7190d1a-1d35-4f3b-9340-6abfa557b4dd"
      },
      "execution_count": null,
      "outputs": [
        {
          "output_type": "display_data",
          "data": {
            "text/plain": [
              "<Figure size 640x480 with 1 Axes>"
            ],
            "image/png": "[encoded data removed]"
          },
          "metadata": {}
        }
      ]
    }
  ]
}