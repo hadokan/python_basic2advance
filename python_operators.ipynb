{
  "nbformat": 4,
  "nbformat_minor": 0,
  "metadata": {
    "colab": {
      "provenance": [],
      "authorship_tag": "ABX9TyPSa8LSuuLWlN7scf0anzES",
      "include_colab_link": true
    },
    "kernelspec": {
      "name": "python3",
      "display_name": "Python 3"
    },
    "language_info": {
      "name": "python"
    }
  },
  "cells": [
    {
      "cell_type": "markdown",
      "metadata": {
        "id": "view-in-github",
        "colab_type": "text"
      },
      "source": [
        "<a href=\"https://colab.research.google.com/github/hadokan/python_basics/blob/main/python_operators.ipynb\" target=\"_parent\"><img src=\"https://colab.research.google.com/assets/colab-badge.svg\" alt=\"Open In Colab\"/></a>"
      ]
    },
    {
      "cell_type": "code",
      "execution_count": null,
      "metadata": {
        "colab": {
          "base_uri": "https://localhost:8080/"
        },
        "id": "ZRP5rLGpDZfU",
        "outputId": "94a83207-290a-439f-8038-b783f4f653fa"
      },
      "outputs": [
        {
          "output_type": "stream",
          "name": "stdout",
          "text": [
            "The sum is\n",
            "2.5\n",
            "Multiplication Assignment by 2\n",
            "5.0\n",
            "Exponent  Assignment by 3\n",
            "125.0\n",
            "Division Assignment by 5\n",
            "25.0\n",
            " Remainder Assignment by 4\n",
            "1.0\n"
          ]
        }
      ],
      "source": [
        "# assign 2 to a\n",
        "a = 2\n",
        "# assign 3 to b\n",
        "b = 0.5\n",
        "# assign the sum of a and b to a\n",
        "a += b      # a = a + b\n",
        "# --> 2.5\n",
        "\n",
        "print('The sum is')\n",
        "print(a)\n",
        "\n",
        "a *= 2 # a = a * 2       Multiplication Assignment\n",
        "print('Multiplication Assignment by',2)\n",
        "print(a)\n",
        "\n",
        "a **= 3   #a = a ** 3    Exponent Assignment\n",
        "# --> 5 * 5 * 5\n",
        "print('Exponent  Assignment by',3)\n",
        "print(a)\n",
        "\n",
        "a /= 5    # a = a / 5     Assignment\n",
        "print('Division Assignment by',5)\n",
        "print(a)\n",
        "\n",
        "a %= 4 # a = a % 4       Remainder Assignment\n",
        "print(' Remainder Assignment by',4)\n",
        "print(a)"
      ]
    },
    {
      "cell_type": "code",
      "source": [
        "a = 2\n",
        "b = 6\n",
        "\n",
        "print((a > 2) and (b >= 6))    # False"
      ],
      "metadata": {
        "colab": {
          "base_uri": "https://localhost:8080/"
        },
        "id": "6zuMaKswFgTK",
        "outputId": "9f46edb6-5a7c-4995-dcc3-d48ef291f68a"
      },
      "execution_count": null,
      "outputs": [
        {
          "output_type": "stream",
          "name": "stdout",
          "text": [
            "False\n"
          ]
        }
      ]
    },
    {
      "cell_type": "code",
      "source": [
        "# logical AND\n",
        "print(True and True)     # True\n",
        "print(True and False)    # False\n",
        "# logical OR\n",
        "print(True or False)     # True\n",
        "# logical NOT\n",
        "print(not True)          # False"
      ],
      "metadata": {
        "colab": {
          "base_uri": "https://localhost:8080/"
        },
        "id": "8VSS5TDpFppG",
        "outputId": "4afdf5b4-b844-4cdf-ba20-51d1c48ed41b"
      },
      "execution_count": null,
      "outputs": [
        {
          "output_type": "stream",
          "name": "stdout",
          "text": [
            "True\n",
            "False\n",
            "True\n",
            "False\n"
          ]
        }
      ]
    },
    {
      "cell_type": "code",
      "source": [
        "x=5\n",
        "y=12\n",
        "\n",
        "# format number as binary (in base 2)\n",
        "xb = f'{x:b}'\n",
        "print(xb)  # 👉️ 0101\n",
        "yb = f'{y:b}'\n",
        "print(yb)  # 👉️ 1100\n",
        "\n",
        "print('---Bitwise OR---')\n",
        "z= x | y\n",
        "zb = f'{z:b}'\n",
        "\n",
        "print(string)  # 👉️ 1100\n",
        "print('result is',z,'as number')\n",
        "print('result is',zb,'as binary')\n",
        "\n",
        "print('Bitwise right shift 1 case is ',f'{z>>1:b}','as binary')\n",
        "t=z>>1\n",
        "print(t)\n",
        "# convert an integer to a binary string prefixed with 0b is also possible\n",
        "tb = bin(t)\n",
        "print(tb)\n",
        "# Bitwise right shift\tx >> 1"
      ],
      "metadata": {
        "colab": {
          "base_uri": "https://localhost:8080/"
        },
        "id": "ZLMflU6-OZk6",
        "outputId": "b704b5ad-fdf4-4992-a235-c71228652588"
      },
      "execution_count": null,
      "outputs": [
        {
          "output_type": "stream",
          "name": "stdout",
          "text": [
            "101\n",
            "1100\n",
            "---Bitwise OR---\n",
            "1101\n",
            "result is 13 as number\n",
            "result is 1101 as binary\n",
            "Bitwise right shift 1 case is  110 as binary\n",
            "6\n",
            "0b110\n"
          ]
        }
      ]
    },
    {
      "cell_type": "code",
      "source": [
        "x = 'How are you'\n",
        "y = {1:'x', 2:'z'}\n",
        "\n",
        "# check if 'h' is present in x string\n",
        "print('h' in x)  # prints False\n",
        "\n",
        "# check if 'are' is present in x string\n",
        "print('are' in x)  # prints True\n",
        "\n",
        "# check if '?' is present in x string\n",
        "print('?' not in x)  # prints True\n",
        "\n",
        "# check if '1' key is present in y\n",
        "print(1 in y)  # prints True\n",
        "\n",
        "# check if 'a' key is present in y\n",
        "print('x' in y)  # prints False"
      ],
      "metadata": {
        "colab": {
          "base_uri": "https://localhost:8080/"
        },
        "id": "SzgE7R3pS834",
        "outputId": "5b778aea-6f2d-49a0-9954-7a6b8595d9a1"
      },
      "execution_count": null,
      "outputs": [
        {
          "output_type": "stream",
          "name": "stdout",
          "text": [
            "False\n",
            "True\n",
            "True\n",
            "True\n",
            "False\n"
          ]
        }
      ]
    }
  ]
}