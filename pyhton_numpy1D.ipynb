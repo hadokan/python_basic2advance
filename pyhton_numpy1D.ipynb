{
  "nbformat": 4,
  "nbformat_minor": 0,
  "metadata": {
    "colab": {
      "provenance": [],
      "authorship_tag": "ABX9TyMCU8IxgG6A3hIlorlloZZK",
      "include_colab_link": true
    },
    "kernelspec": {
      "name": "python3",
      "display_name": "Python 3"
    },
    "language_info": {
      "name": "python"
    }
  },
  "cells": [
    {
      "cell_type": "markdown",
      "metadata": {
        "id": "view-in-github",
        "colab_type": "text"
      },
      "source": [
        "<a href=\"https://colab.research.google.com/github/hadokan/python_basics/blob/main/pyhton_numpy1D.ipynb\" target=\"_parent\"><img src=\"https://colab.research.google.com/assets/colab-badge.svg\" alt=\"Open In Colab\"/></a>"
      ]
    },
    {
      "cell_type": "code",
      "execution_count": 4,
      "metadata": {
        "colab": {
          "base_uri": "https://localhost:8080/"
        },
        "id": "joRBaeqont35",
        "outputId": "c3eb1bdd-3d11-4dcc-fedd-cad05447d0b8"
      },
      "outputs": [
        {
          "output_type": "stream",
          "name": "stdout",
          "text": [
            "[0 1 2 3 4 5]\n",
            "[0. 0. 0. 0. 0.]\n",
            "Using np.arange(7): [0 1 2 3 4 5 6]\n",
            "Using np.arange(1, 20, 3): [ 1  4  7 10 13 16 19]\n",
            "[0.10306963 0.24066656 0.74143862 0.76286497 0.15633189]\n",
            "[0.0e+000 4.9e-324 9.9e-324 1.5e-323 2.0e-323 2.5e-323]\n"
          ]
        }
      ],
      "source": [
        "import numpy as np\n",
        "\n",
        "# A list named listX is created.\n",
        "listX = [0, 1, 2, 3, 4, 5]\n",
        "\n",
        "# use numpy to have an array using listX\n",
        "arrayX = np.array(listX)\n",
        "\n",
        "print(arrayX)\n",
        "\n",
        "# An array with 5 elements filled with zeros\n",
        "arrayZ = np.zeros(5)\n",
        "\n",
        "print(arrayZ)\n",
        "\n",
        "\n",
        "# An array with values from 0 to 6\n",
        "arrayA = np.arange(7)\n",
        "\n",
        "print(\"Using np.arange(7):\", arrayA)\n",
        "\n",
        "# An array with values from 1 to 19 with a step of 3\n",
        "arrayB = np.arange(1, 20, 3)\n",
        "\n",
        "print(\"Using np.arange(1, 20, 3):\",arrayB)\n",
        "\n",
        "# An array of 5 random numbers\n",
        "arrayR = np.random.rand(5)\n",
        "\n",
        "print(arrayR)\n",
        "\n",
        "# An empty array of length 5\n",
        "arrayE = np.empty(6)\n",
        "\n",
        "print(arrayE)"
      ]
    },
    {
      "cell_type": "code",
      "source": [],
      "metadata": {
        "id": "FLT3z3JHoI_G"
      },
      "execution_count": 1,
      "outputs": []
    }
  ]
}