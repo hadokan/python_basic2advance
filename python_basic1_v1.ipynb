{
  "nbformat": 4,
  "nbformat_minor": 0,
  "metadata": {
    "colab": {
      "provenance": [],
      "authorship_tag": "ABX9TyMtdxzRXu0rkU0v25e6c0tp",
      "include_colab_link": true
    },
    "kernelspec": {
      "name": "python3",
      "display_name": "Python 3"
    },
    "language_info": {
      "name": "python"
    }
  },
  "cells": [
    {
      "cell_type": "markdown",
      "metadata": {
        "id": "view-in-github",
        "colab_type": "text"
      },
      "source": [
        "<a href=\"https://colab.research.google.com/github/hadokan/python_basics/blob/main/basic_v1.ipynb\" target=\"_parent\"><img src=\"https://colab.research.google.com/assets/colab-badge.svg\" alt=\"Open In Colab\"/></a>"
      ]
    },
    {
      "cell_type": "code",
      "execution_count": null,
      "metadata": {
        "colab": {
          "base_uri": "https://localhost:8080/"
        },
        "id": "ne0ZtBtustvE",
        "outputId": "ba1d37a2-33c0-4af0-80c9-36aeb732f6f3"
      },
      "outputs": [
        {
          "output_type": "stream",
          "name": "stdout",
          "text": [
            "The sum of 1.5 and 6.3 is 7.8\n"
          ]
        }
      ],
      "source": [
        "# This program adds two numbers\n",
        "\n",
        "num1 = 1.5\n",
        "num2 = 6.3\n",
        "\n",
        "# Add two numbers\n",
        "sum = num1 + num2\n",
        "\n",
        "# Display the sum\n",
        "print('The sum of {0} and {1} is {2}'.format(num1, num2, sum))"
      ]
    },
    {
      "cell_type": "code",
      "source": [
        "# list\n",
        "cities = [\"ankara\", \"istanbul\", \"izmir\"]\n",
        "print(cities)\n",
        "\n",
        "# tuple\n",
        "numbers = (1, 2, 3)\n",
        "print(numbers)\n",
        "\n",
        "# dictionary\n",
        "dic = {'a':'Ax', 'b':'Bx', 'c':'Cx'}\n",
        "print(dic)\n",
        "\n",
        "# set\n",
        "vowels = {'a', 'e', 'i' , 'o', 'u'}\n",
        "print(vowels)"
      ],
      "metadata": {
        "colab": {
          "base_uri": "https://localhost:8080/"
        },
        "id": "6Pb_XrwCPE_n",
        "outputId": "d055062c-82dc-412c-f84d-d7f408b8e697"
      },
      "execution_count": 2,
      "outputs": [
        {
          "output_type": "stream",
          "name": "stdout",
          "text": [
            "['ankara', 'istanbul', 'izmir']\n",
            "(1, 2, 3)\n",
            "{'a': 'Ax', 'b': 'Bx', 'c': 'Cx'}\n",
            "{'e', 'o', 'a', 'i', 'u'}\n"
          ]
        }
      ]
    },
    {
      "cell_type": "code",
      "source": [
        "# Store input numbers\n",
        "num1 = input('Enter first number: ')\n",
        "num2 = input('Enter second number: ')\n",
        "\n",
        "# Add two numbers\n",
        "sum = float(num1) + float(num2)\n",
        "\n",
        "# Display the sum\n",
        "print('The sum of {0} and {1} is {2}'.format(num1, num2, sum))"
      ],
      "metadata": {
        "colab": {
          "base_uri": "https://localhost:8080/"
        },
        "id": "4UWnRBS279de",
        "outputId": "0d299c8d-03a9-4166-cf29-4e45e1c55ec9"
      },
      "execution_count": null,
      "outputs": [
        {
          "output_type": "stream",
          "name": "stdout",
          "text": [
            "Enter first number: 5\n",
            "Enter second number: 6\n",
            "The sum of 5 and 6 is 11.0\n"
          ]
        }
      ]
    },
    {
      "cell_type": "code",
      "source": [
        "# To calculate the square root\n",
        "num = 8\n",
        "# To take the input from the user\n",
        "#num = float(input('Enter a number: '))\n",
        "\n",
        "num_sqrt = num ** 0.5\n",
        "print('The square root of %0.2f is %0.5f'%(num ,num_sqrt))"
      ],
      "metadata": {
        "colab": {
          "base_uri": "https://localhost:8080/"
        },
        "id": "Qfwa0Sjv8hqQ",
        "outputId": "b7b1e97b-e6f1-4ddb-9393-e2e7fa00c015"
      },
      "execution_count": null,
      "outputs": [
        {
          "output_type": "stream",
          "name": "stdout",
          "text": [
            "The square root of 8.00 is 2.82843\n"
          ]
        }
      ]
    },
    {
      "cell_type": "code",
      "source": [
        "# import the random module\n",
        "import random\n",
        "# To generate a random number between 0 and 19\n",
        "print(random.randint(0,19))"
      ],
      "metadata": {
        "colab": {
          "base_uri": "https://localhost:8080/"
        },
        "id": "p9GChsiNJq2X",
        "outputId": "190e85c8-9aaf-4b3c-fe43-50cf83a5d46b"
      },
      "execution_count": null,
      "outputs": [
        {
          "output_type": "stream",
          "name": "stdout",
          "text": [
            "3\n"
          ]
        }
      ]
    },
    {
      "cell_type": "code",
      "source": [
        "# create a sequence of numbers from 0 to 3\n",
        "numbers = range(4)\n",
        "\n",
        "# iterating through the sequence of numbers\n",
        "for i in numbers:\n",
        "    print(i)"
      ],
      "metadata": {
        "colab": {
          "base_uri": "https://localhost:8080/"
        },
        "id": "pHP_bpDyKM86",
        "outputId": "b2ef6967-f22e-4062-a288-6061e3a8bb54"
      },
      "execution_count": null,
      "outputs": [
        {
          "output_type": "stream",
          "name": "stdout",
          "text": [
            "0\n",
            "1\n",
            "2\n",
            "3\n"
          ]
        }
      ]
    }
  ]
}
