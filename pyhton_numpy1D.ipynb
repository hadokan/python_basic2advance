{
  "nbformat": 4,
  "nbformat_minor": 0,
  "metadata": {
    "colab": {
      "provenance": [],
      "authorship_tag": "ABX9TyPCx3J5hXI6Ml41OkfPBQwl",
      "include_colab_link": true
    },
    "kernelspec": {
      "name": "python3",
      "display_name": "Python 3"
    },
    "language_info": {
      "name": "python"
    }
  },
  "cells": [
    {
      "cell_type": "markdown",
      "metadata": {
        "id": "view-in-github",
        "colab_type": "text"
      },
      "source": [
        "<a href=\"https://colab.research.google.com/github/hadokan/python_basics/blob/main/pyhton_numpy1D.ipynb\" target=\"_parent\"><img src=\"https://colab.research.google.com/assets/colab-badge.svg\" alt=\"Open In Colab\"/></a>"
      ]
    },
    {
      "cell_type": "code",
      "execution_count": null,
      "metadata": {
        "colab": {
          "base_uri": "https://localhost:8080/"
        },
        "id": "joRBaeqont35",
        "outputId": "c3eb1bdd-3d11-4dcc-fedd-cad05447d0b8"
      },
      "outputs": [
        {
          "output_type": "stream",
          "name": "stdout",
          "text": [
            "[0 1 2 3 4 5]\n",
            "[0. 0. 0. 0. 0.]\n",
            "Using np.arange(7): [0 1 2 3 4 5 6]\n",
            "Using np.arange(1, 20, 3): [ 1  4  7 10 13 16 19]\n",
            "[0.10306963 0.24066656 0.74143862 0.76286497 0.15633189]\n",
            "[0.0e+000 4.9e-324 9.9e-324 1.5e-323 2.0e-323 2.5e-323]\n"
          ]
        }
      ],
      "source": [
        "import numpy as np\n",
        "\n",
        "# A list named listX is created.\n",
        "listX = [0, 1, 2, 3, 4, 5]\n",
        "\n",
        "# use numpy to have an array using listX\n",
        "arrayX = np.array(listX)\n",
        "\n",
        "print(arrayX)\n",
        "\n",
        "# An array with 5 elements filled with zeros\n",
        "arrayZ = np.zeros(5)\n",
        "\n",
        "print(arrayZ)\n",
        "\n",
        "\n",
        "# An array with values from 0 to 6\n",
        "arrayA = np.arange(7)\n",
        "\n",
        "print(\"Using np.arange(7):\", arrayA)\n",
        "\n",
        "# An array with values from 1 to 19 with a step of 3\n",
        "arrayB = np.arange(1, 20, 3)\n",
        "\n",
        "print(\"Using np.arange(1, 20, 3):\",arrayB)\n",
        "\n",
        "# An array of 5 random numbers\n",
        "arrayR = np.random.rand(5)\n",
        "\n",
        "print(arrayR)\n",
        "\n",
        "# An empty array of length 5\n",
        "arrayE = np.empty(6)\n",
        "\n",
        "print(arrayE)"
      ]
    },
    {
      "cell_type": "code",
      "source": [
        "import numpy as np\n",
        "\n",
        "# An array of integers\n",
        "int_array = np.array([0, 1, 3, 5])\n",
        "\n",
        "# convert data type of int_array to float\n",
        "float_array = int_array.astype('float')\n",
        "\n",
        "# print the arrays and their data types\n",
        "print(int_array, int_array.dtype)\n",
        "print(float_array, float_array.dtype)"
      ],
      "metadata": {
        "id": "FLT3z3JHoI_G",
        "outputId": "f4a693ac-9d57-408b-d8b2-49c0b9158c10",
        "colab": {
          "base_uri": "https://localhost:8080/"
        }
      },
      "execution_count": null,
      "outputs": [
        {
          "output_type": "stream",
          "name": "stdout",
          "text": [
            "[0 1 3 5] int64\n",
            "[0. 1. 3. 5.] float64\n"
          ]
        }
      ]
    },
    {
      "cell_type": "code",
      "source": [
        "import numpy as np\n",
        "\n",
        "# A numpy array\n",
        "numbers = np.array([0, 1, 3, 5, 7, 9])\n",
        "\n",
        "# modify elements from index 3\n",
        "numbers[3:] = 99\n",
        "print(numbers)\n",
        "\n",
        "# modify the first 3 elements\n",
        "numbers[:2] = 10\n",
        "\n",
        "print(numbers)"
      ],
      "metadata": {
        "colab": {
          "base_uri": "https://localhost:8080/"
        },
        "id": "CBU1pkONpVyY",
        "outputId": "db32992a-a520-436b-cc6b-6b60736d7412"
      },
      "execution_count": null,
      "outputs": [
        {
          "output_type": "stream",
          "name": "stdout",
          "text": [
            "[ 0  1  3 99 99 99]\n"
          ]
        }
      ]
    },
    {
      "cell_type": "code",
      "source": [
        "import numpy as np\n",
        "\n",
        "arrayX = np.array([0, 1, 2, 3, 4, 5, 6, 7, 8, 9 ])\n",
        "\n",
        "# reshape a 1D array as a 2D array (2 rows and 5 columns)\n",
        "arrayXr = np.reshape(arrayX, (2, 5))\n",
        "print(arrayXr)\n",
        "\n",
        "result = np.reshape(arrayXr, (1, 10))\n",
        "print(result)"
      ],
      "metadata": {
        "colab": {
          "base_uri": "https://localhost:8080/"
        },
        "id": "ltWH-IJfpm18",
        "outputId": "c9dbe638-0a6d-4d5a-8a33-3c3c182128ed"
      },
      "execution_count": 3,
      "outputs": [
        {
          "output_type": "stream",
          "name": "stdout",
          "text": [
            "[[0 1 2 3 4]\n",
            " [5 6 7 8 9]]\n",
            "[[0 1 2 3 4 5 6 7 8 9]]\n"
          ]
        }
      ]
    }
  ]
}