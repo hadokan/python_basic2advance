{
  "nbformat": 4,
  "nbformat_minor": 0,
  "metadata": {
    "colab": {
      "provenance": [],
      "authorship_tag": "ABX9TyOZ3X1/B1CTf+2oVVRVrfkM",
      "include_colab_link": true
    },
    "kernelspec": {
      "name": "python3",
      "display_name": "Python 3"
    },
    "language_info": {
      "name": "python"
    }
  },
  "cells": [
    {
      "cell_type": "markdown",
      "metadata": {
        "id": "view-in-github",
        "colab_type": "text"
      },
      "source": [
        "<a href=\"https://colab.research.google.com/github/hadokan/python_basics/blob/main/python_objectoriented.ipynb\" target=\"_parent\"><img src=\"https://colab.research.google.com/assets/colab-badge.svg\" alt=\"Open In Colab\"/></a>"
      ]
    },
    {
      "cell_type": "code",
      "execution_count": 3,
      "metadata": {
        "id": "Y82YSweCXWsc"
      },
      "outputs": [],
      "source": [
        "# Object-oriented programming (OOP) through the use of objects and classes\n",
        "# Classes are user-defined data types for individual objects.\n",
        "\n",
        "# Methods are functions that are defined inside a class that describe the behaviors of an object.\n",
        "\n",
        "# An object can be defined as a data field that has unique attributes and behavior.\n",
        "# In other words, objects are instances of a class created with specifically defined data."
      ]
    },
    {
      "cell_type": "code",
      "source": [
        "class studentX:\n",
        "\n",
        "    # class attribute\n",
        "    name = \"\"\n",
        "    age = 0\n",
        "\n",
        "# create st1 object\n",
        "st1 = studentX()\n",
        "st1.name = \"Hakan\"\n",
        "st1.age = 43\n",
        "\n",
        "# create another object st2\n",
        "st2 = studentX()\n",
        "st2.name = \"Nick\"\n",
        "st2.age = 40\n",
        "\n",
        "# access attributes\n",
        "print(f\"{st1.name} is {st1.age} years old\")\n",
        "print(f\"{st2.name} is {st2.age} years old\")"
      ],
      "metadata": {
        "colab": {
          "base_uri": "https://localhost:8080/"
        },
        "id": "Qy-H6xjXf4Gx",
        "outputId": "97456a0b-e133-4cc6-b972-3e4f3d9732eb"
      },
      "execution_count": 4,
      "outputs": [
        {
          "output_type": "stream",
          "name": "stdout",
          "text": [
            "Hakan is 43 years old\n",
            "Nick is 40 years old\n"
          ]
        }
      ]
    },
    {
      "cell_type": "code",
      "source": [
        "# Python Inheritance\n",
        "# Base class\n",
        "class car:\n",
        "    def go(x):\n",
        "        print( \"I can go!\")\n",
        "    def stop(y):\n",
        "        print(\"I can stop!\")\n",
        "# derived class\n",
        "class tesla(car):\n",
        "    def electric(z):\n",
        "        print(\"it is an electric car\")\n",
        "\n",
        "# derived class\n",
        "class opelcorsa(car):\n",
        "    def electric(z):\n",
        "        print(\"it is not an electric car\")\n",
        "\n",
        "# Create object of the tesla class\n",
        "t1 = tesla()\n",
        "# Calling members of the base class\n",
        "t1.go()\n",
        "t1.stop()\n",
        "# Calling member of the derived class\n",
        "t1.electric();\n",
        "\n",
        "# Create object of the tesla class\n",
        "t2 = opelcorsa()\n",
        "# Calling members of the base class\n",
        "t2.go()\n",
        "t2.stop()\n",
        "# Calling member of the derived class\n",
        "t2.electric();"
      ],
      "metadata": {
        "colab": {
          "base_uri": "https://localhost:8080/"
        },
        "id": "3XvcIQY0jOt3",
        "outputId": "ed6bfc54-e027-4ec6-d7ff-e4c0b1e64498"
      },
      "execution_count": 5,
      "outputs": [
        {
          "output_type": "stream",
          "name": "stdout",
          "text": [
            "I can go!\n",
            "I can stop!\n",
            "it is an electric car\n",
            "I can go!\n",
            "I can stop!\n",
            "it is not an electric car\n"
          ]
        }
      ]
    },
    {
      "cell_type": "code",
      "source": [
        "class house:\n",
        "\n",
        "    def __init__(self):\n",
        "        self.maxprice = 4000000\n",
        "\n",
        "    def sell(self):\n",
        "        print(\"Selling Price: {}\".format(self.maxprice))\n",
        "\n",
        "    def setMaxPrice(self, price):\n",
        "        self.maxprice = price\n",
        "\n",
        "apart1 = house()\n",
        "apart1.sell()\n",
        "\n",
        "# change the price  (it will not change because the \"maxprice\" is a private variable.)\n",
        "apart1.__maxprice = 1000000\n",
        "apart1.sell()\n",
        "\n",
        "# we can only change it by using function\n",
        "apart1.setMaxPrice(5000000)\n",
        "apart1.sell()"
      ],
      "metadata": {
        "colab": {
          "base_uri": "https://localhost:8080/"
        },
        "id": "lHqUwU7S0TdT",
        "outputId": "25f8abe2-f115-4cae-f8fc-f90df6df6643"
      },
      "execution_count": 6,
      "outputs": [
        {
          "output_type": "stream",
          "name": "stdout",
          "text": [
            "Selling Price: 4000000\n",
            "Selling Price: 4000000\n",
            "Selling Price: 5000000\n"
          ]
        }
      ]
    },
    {
      "cell_type": "code",
      "source": [
        "class animal:\n",
        "    # method to define a animal\n",
        "    def goes(self):\n",
        "        print(\"just goes...\")\n",
        "\n",
        "class shark(animal):\n",
        "    # shark case\n",
        "    def goes(self):\n",
        "        print(\"...goes fast at sea...\")\n",
        "\n",
        "class tortoise(animal):\n",
        "    # tortoise case\n",
        "    def goes(self):\n",
        "        print(\"... goes show on land...\")\n",
        "\n",
        "# create an object of Square\n",
        "s1 = shark()\n",
        "s1.goes()\n",
        "\n",
        "# create an object of Circle\n",
        "c1 = tortoise()\n",
        "c1.goes()"
      ],
      "metadata": {
        "colab": {
          "base_uri": "https://localhost:8080/"
        },
        "id": "YnJFxBPvg_zo",
        "outputId": "20b602e0-39a8-48f2-fced-49f180571686"
      },
      "execution_count": 7,
      "outputs": [
        {
          "output_type": "stream",
          "name": "stdout",
          "text": [
            "...goes fast at sea...\n",
            "... goes show on land...\n"
          ]
        }
      ]
    }
  ]
}