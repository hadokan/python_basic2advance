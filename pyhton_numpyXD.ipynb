{
  "nbformat": 4,
  "nbformat_minor": 0,
  "metadata": {
    "colab": {
      "provenance": [],
      "authorship_tag": "ABX9TyPmTMd0BeUCDIiQTfoOeYAZ",
      "include_colab_link": true
    },
    "kernelspec": {
      "name": "python3",
      "display_name": "Python 3"
    },
    "language_info": {
      "name": "python"
    }
  },
  "cells": [
    {
      "cell_type": "markdown",
      "metadata": {
        "id": "view-in-github",
        "colab_type": "text"
      },
      "source": [
        "<a href=\"https://colab.research.google.com/github/hadokan/python_basics/blob/main/pyhton_numpyXD.ipynb\" target=\"_parent\"><img src=\"https://colab.research.google.com/assets/colab-badge.svg\" alt=\"Open In Colab\"/></a>"
      ]
    },
    {
      "cell_type": "code",
      "execution_count": 7,
      "metadata": {
        "colab": {
          "base_uri": "https://localhost:8080/"
        },
        "id": "Es1hKZBtsWVi",
        "outputId": "2fd9eab3-b69f-4e01-d4f2-9972e719fe84"
      },
      "outputs": [
        {
          "output_type": "stream",
          "name": "stdout",
          "text": [
            "[[0 2 3 4 9]\n",
            " [2 6 7 8 0]]\n",
            "............\n",
            "[2 6 7 8 0]\n",
            "[3 7]\n",
            "7\n"
          ]
        }
      ],
      "source": [
        "# Multidimensional array with 2 rows and 5 columns\n",
        "import numpy as np\n",
        "\n",
        "arrayX2 = np.array([[0, 2, 3, 4,9],\n",
        "                  [2, 6, 7, 8,0]])\n",
        "\n",
        "print(arrayX2)\n",
        "\n",
        "print('............')\n",
        "\n",
        "print(arrayX2[1,:])\n",
        "print(arrayX2[:,2])\n",
        "print(arrayX2[1,2])"
      ]
    },
    {
      "cell_type": "code",
      "source": [
        "import numpy as np\n",
        "# A 3D array with 2 \"slices\", each of 3 rows and 4 columns\n",
        "arrayX3 = np.array([[[0, 2, 4, 6],\n",
        "                [1, 3, 5, 7],['A', 'B', 'C', 'D']],\n",
        "\n",
        "                [[9, 11, 13, 15],\n",
        "                 [8, 10, 12, 14],['E', 'F', 'G', 'H']]])\n",
        "\n",
        "print(arrayX3)\n",
        "\n",
        "print('...............')\n",
        "print(arrayX3[:,:,1])\n",
        "print('...............')\n",
        "print(arrayX3[:,1,:])\n",
        "print('...............')\n",
        "print(arrayX3[1,:,:])\n",
        "print('...............')\n",
        "print(arrayX3[0,2,3])\n",
        "print('...............')\n",
        "print(arrayX3[1,2,3])\n",
        "print('...............')\n",
        "print(arrayX3[0,1,3])\n",
        "print('...............')\n",
        "print(arrayX3[1,1,3])"
      ],
      "metadata": {
        "colab": {
          "base_uri": "https://localhost:8080/"
        },
        "id": "qiHpiNJU-MeX",
        "outputId": "fd1f467b-287e-4af8-b4c9-eb30676dd400"
      },
      "execution_count": 19,
      "outputs": [
        {
          "output_type": "stream",
          "name": "stdout",
          "text": [
            "[[['0' '2' '4' '6']\n",
            "  ['1' '3' '5' '7']\n",
            "  ['A' 'B' 'C' 'D']]\n",
            "\n",
            " [['9' '11' '13' '15']\n",
            "  ['8' '10' '12' '14']\n",
            "  ['E' 'F' 'G' 'H']]]\n",
            "...............\n",
            "[['2' '3' 'B']\n",
            " ['11' '10' 'F']]\n",
            "...............\n",
            "[['1' '3' '5' '7']\n",
            " ['8' '10' '12' '14']]\n",
            "...............\n",
            "[['9' '11' '13' '15']\n",
            " ['8' '10' '12' '14']\n",
            " ['E' 'F' 'G' 'H']]\n",
            "...............\n",
            "D\n",
            "...............\n",
            "H\n",
            "...............\n",
            "7\n",
            "...............\n",
            "14\n"
          ]
        }
      ]
    },
    {
      "cell_type": "code",
      "source": [
        "# 3D array with dimensions 4x5x3 filled with zeros\n",
        "arrayZ = np.zeros((2, 5, 3))\n",
        "print('...............')\n",
        "print(arrayZ)\n",
        "\n",
        "# check the dimension of arrayZ\n",
        "print(arrayZ.ndim)\n",
        "\n",
        "# total number of elements in arrayZ\n",
        "print(arrayZ.size)\n",
        "\n",
        "# results a tuple that gives the size of array in each dimension\n",
        "print(arrayZ.shape)\n",
        "\n",
        "# the data type of arrayZ\n",
        "print(arrayZ.dtype)\n",
        "\n",
        "# the memory address of arrayZ\n",
        "print(\"Data of arrayZ is: \",arrayZ.data)"
      ],
      "metadata": {
        "colab": {
          "base_uri": "https://localhost:8080/"
        },
        "id": "MYgXlAi9Cjds",
        "outputId": "903f82be-6994-4e6d-f071-c96e7120d7dd"
      },
      "execution_count": 25,
      "outputs": [
        {
          "output_type": "stream",
          "name": "stdout",
          "text": [
            "...............\n",
            "[[[0. 0. 0.]\n",
            "  [0. 0. 0.]\n",
            "  [0. 0. 0.]\n",
            "  [0. 0. 0.]\n",
            "  [0. 0. 0.]]\n",
            "\n",
            " [[0. 0. 0.]\n",
            "  [0. 0. 0.]\n",
            "  [0. 0. 0.]\n",
            "  [0. 0. 0.]\n",
            "  [0. 0. 0.]]]\n",
            "3\n",
            "30\n",
            "(2, 5, 3)\n",
            "float64\n",
            "Data of arrayZ is:  <memory at 0x7e5d195ba980>\n"
          ]
        }
      ]
    }
  ]
}