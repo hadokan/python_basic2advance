{
  "nbformat": 4,
  "nbformat_minor": 0,
  "metadata": {
    "colab": {
      "provenance": [],
      "authorship_tag": "ABX9TyMEtV84XD4g+HeXcs+F/Y2c",
      "include_colab_link": true
    },
    "kernelspec": {
      "name": "python3",
      "display_name": "Python 3"
    },
    "language_info": {
      "name": "python"
    }
  },
  "cells": [
    {
      "cell_type": "markdown",
      "metadata": {
        "id": "view-in-github",
        "colab_type": "text"
      },
      "source": [
        "<a href=\"https://colab.research.google.com/github/hadokan/python_basics/blob/main/python_data_types.ipynb\" target=\"_parent\"><img src=\"https://colab.research.google.com/assets/colab-badge.svg\" alt=\"Open In Colab\"/></a>"
      ]
    },
    {
      "cell_type": "code",
      "execution_count": null,
      "metadata": {
        "id": "AlYLd2p7rgFk"
      },
      "outputs": [],
      "source": [
        "# A collection of unique data creates a set. Elements cannot be duplicate in a set."
      ]
    },
    {
      "cell_type": "code",
      "source": [
        "# Create a set of integer type\n",
        "student_id = {12, 11,12, 14, 9, 5, 5}\n",
        "print('Student ID:', student_id)\n",
        "\n",
        "# 12 and 5 will be unique"
      ],
      "metadata": {
        "colab": {
          "base_uri": "https://localhost:8080/"
        },
        "id": "oBHOnayZtNYM",
        "outputId": "57eef19b-b0c9-4c07-8d60-2839c92c9d50"
      },
      "execution_count": 4,
      "outputs": [
        {
          "output_type": "stream",
          "name": "stdout",
          "text": [
            "Student ID: {5, 9, 11, 12, 14}\n"
          ]
        }
      ]
    },
    {
      "cell_type": "code",
      "source": [
        "numbers = {'A', 34, 'Xa', 12}\n",
        "\n",
        "print('Initial Set:',numbers)\n",
        "\n",
        "# using add() method\n",
        "numbers.add(32)\n",
        "\n",
        "print('Updated Set:', numbers)"
      ],
      "metadata": {
        "colab": {
          "base_uri": "https://localhost:8080/"
        },
        "id": "qnkjvC7AxVyM",
        "outputId": "fc29c787-913d-4432-8f14-e56b3115747d"
      },
      "execution_count": 6,
      "outputs": [
        {
          "output_type": "stream",
          "name": "stdout",
          "text": [
            "Initial Set: {'A', 'Xa', 34, 12}\n",
            "Updated Set: {32, 34, 12, 'A', 'Xa'}\n"
          ]
        }
      ]
    },
    {
      "cell_type": "code",
      "source": [
        "telephones = {'apple', 'samsung','LG'}\n",
        "vacuumcleaner = ['fantom', 'dyson', 'fakir']\n",
        "\n",
        "\n",
        "products=telephones.update(vacuumcleaner)\n",
        "\n",
        "print(products)  # --> None\n",
        "\n",
        "print(telephones)\n",
        "products=telephones\n",
        "print(products)\n",
        "\n",
        "telephones.discard('dyson')\n",
        "print(telephones)\n"
      ],
      "metadata": {
        "colab": {
          "base_uri": "https://localhost:8080/"
        },
        "id": "H2CbEZl-yyQF",
        "outputId": "93d768c2-c5bf-4414-a5d1-3c9f75993b70"
      },
      "execution_count": 16,
      "outputs": [
        {
          "output_type": "stream",
          "name": "stdout",
          "text": [
            "None\n",
            "{'fakir', 'LG', 'fantom', 'dyson', 'samsung', 'apple'}\n",
            "{'fakir', 'LG', 'fantom', 'dyson', 'samsung', 'apple'}\n",
            "{'fakir', 'LG', 'fantom', 'samsung', 'apple'}\n"
          ]
        }
      ]
    },
    {
      "cell_type": "code",
      "source": [
        "vacuumcleaner = ['fantom', 'dyson', 'fakir']\n",
        "type(vacuumcleaner)\n",
        "print(vacuumcleaner[0])\n",
        "\n",
        "#vacuumcleaner2 = {'fantom', 'dyson', 'fakir'}\n",
        "#type(vacuumcleaner2)\n",
        "#print(vacuumcleaner2[0])\n",
        "# --> TypeError: 'set' object is not subscriptable\n",
        "\n",
        "enumerate"
      ],
      "metadata": {
        "colab": {
          "base_uri": "https://localhost:8080/"
        },
        "id": "ntO6cndM6ttn",
        "outputId": "d9b510ca-6a6b-44a7-82cc-d35b28d402b9"
      },
      "execution_count": 21,
      "outputs": [
        {
          "output_type": "stream",
          "name": "stdout",
          "text": [
            "fantom\n"
          ]
        },
        {
          "output_type": "execute_result",
          "data": {
            "text/plain": [
              "enumerate"
            ]
          },
          "metadata": {},
          "execution_count": 21
        }
      ]
    },
    {
      "cell_type": "code",
      "source": [
        "vacuumcleaner2 = {'fantom', 'dyson', 'fakir'}\n",
        "type(vacuumcleaner2)\n",
        "\n",
        "enumeratevacuumX=(enumerate(vacuumcleaner2))\n",
        "\n",
        "print(list(vacuumcleaner2))\n",
        "print(list(enumeratevacuumX))"
      ],
      "metadata": {
        "colab": {
          "base_uri": "https://localhost:8080/"
        },
        "id": "aEOBlsTb7VXO",
        "outputId": "9874aac0-8906-49b3-d058-a6f02c200629"
      },
      "execution_count": 27,
      "outputs": [
        {
          "output_type": "stream",
          "name": "stdout",
          "text": [
            "['fakir', 'dyson', 'fantom']\n",
            "[(0, 'fakir'), (1, 'dyson'), (2, 'fantom')]\n"
          ]
        }
      ]
    },
    {
      "cell_type": "code",
      "source": [
        "products = ['X', 'Y', 'Z',2]\n",
        "\n",
        "for item in enumerate(products):\n",
        "  print(item)\n",
        "\n",
        "print()\n",
        "\n",
        "for count, item in enumerate(products):\n",
        "  print(count, item)\n",
        "\n",
        "print()\n",
        "\n",
        "# changing default start value\n",
        "for count, item in enumerate(products, 1000):\n",
        "  print(count, item)"
      ],
      "metadata": {
        "colab": {
          "base_uri": "https://localhost:8080/"
        },
        "id": "vCj2g-PN9PEQ",
        "outputId": "911fff7e-d4a0-4dec-c0e2-01eb465028cb"
      },
      "execution_count": 31,
      "outputs": [
        {
          "output_type": "stream",
          "name": "stdout",
          "text": [
            "(0, 'X')\n",
            "(1, 'Y')\n",
            "(2, 'Z')\n",
            "(3, 2)\n",
            "\n",
            "0 X\n",
            "1 Y\n",
            "2 Z\n",
            "3 2\n",
            "\n",
            "1000 X\n",
            "1001 Y\n",
            "1002 Z\n",
            "1003 2\n"
          ]
        }
      ]
    }
  ]
}