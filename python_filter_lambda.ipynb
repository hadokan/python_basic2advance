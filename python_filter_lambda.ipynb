{
  "nbformat": 4,
  "nbformat_minor": 0,
  "metadata": {
    "colab": {
      "provenance": [],
      "authorship_tag": "ABX9TyOxmWCcn7CB3nYI98p0Kzz4",
      "include_colab_link": true
    },
    "kernelspec": {
      "name": "python3",
      "display_name": "Python 3"
    },
    "language_info": {
      "name": "python"
    }
  },
  "cells": [
    {
      "cell_type": "markdown",
      "metadata": {
        "id": "view-in-github",
        "colab_type": "text"
      },
      "source": [
        "<a href=\"https://colab.research.google.com/github/hadokan/python_basics/blob/main/python_filter_lambda.ipynb\" target=\"_parent\"><img src=\"https://colab.research.google.com/assets/colab-badge.svg\" alt=\"Open In Colab\"/></a>"
      ]
    },
    {
      "cell_type": "code",
      "execution_count": 18,
      "metadata": {
        "id": "J0SIQPQnhPGv"
      },
      "outputs": [],
      "source": [
        "# The filter() function selects elements from an iterable (list, tuple etc.) and\n",
        "# the items are filtered through a function to test if the item is accepted or not.\n",
        "# In other words, the function is applied to each element of the iterable.\n",
        "# the element is selected by the filter() function if it returns True."
      ]
    },
    {
      "cell_type": "code",
      "source": [
        "\n",
        "# returns True if the argument passed is even\n",
        "\n",
        "def check_even(number):\n",
        "    if number % 2 == 0:\n",
        "          return True\n",
        "\n",
        "    return False\n",
        "\n",
        "numbers = [1, 2, 3, 4, 5, 6, 7, 8, 9, 10]\n",
        "\n",
        "# if an element passed to check_even() returns True, select it\n",
        "even_numbers_iterator = filter(check_even, numbers)\n",
        "even_numbers_iterator2 = filter(check_even, numbers)\n",
        "\n",
        "# converting to list\n",
        "even_numbers = list(even_numbers_iterator)\n",
        "# converting to tuple\n",
        "even_numbers2 = tuple(even_numbers_iterator2)\n",
        "\n",
        "\n",
        "print(even_numbers_iterator)\n",
        "print(even_numbers)\n",
        "print(even_numbers2)\n",
        "\n",
        "# Output: [2, 4, 6, 8, 10]"
      ],
      "metadata": {
        "colab": {
          "base_uri": "https://localhost:8080/"
        },
        "id": "KyWgoCarh9ha",
        "outputId": "78abbe14-8960-4bb3-9ae9-40f13aa77e9a"
      },
      "execution_count": 19,
      "outputs": [
        {
          "output_type": "stream",
          "name": "stdout",
          "text": [
            "<filter object at 0x77fd9c0c2f80>\n",
            "[2, 4, 6, 8, 10]\n",
            "(2, 4, 6, 8, 10)\n"
          ]
        }
      ]
    },
    {
      "cell_type": "code",
      "source": [
        "# Arbitrary Arguments Case could also be used\n",
        "\n",
        "def check_evenX(*numbers):\n",
        "    for num in numbers:\n",
        "        if num % 2 == 0:\n",
        "          print(num,end=', ')\n",
        "\n",
        "\n",
        "# function call with 3 arguments\n",
        "check_evenX(1, 2, 3,4,5,6,12,15)\n",
        "\n",
        "\n",
        "\n",
        "\n"
      ],
      "metadata": {
        "colab": {
          "base_uri": "https://localhost:8080/"
        },
        "id": "hv2GfZBksqBq",
        "outputId": "486b82dd-1800-4157-f80d-2d1ded6b7479"
      },
      "execution_count": 20,
      "outputs": [
        {
          "output_type": "stream",
          "name": "stdout",
          "text": [
            "2, 4, 6, 12, "
          ]
        }
      ]
    },
    {
      "cell_type": "code",
      "source": [
        "letters = ['a', 'b', 'd', 'e', 'i', 'j', 'o']\n",
        "\n",
        "\n",
        "# a function that returns True if letter is vowel\n",
        "def filter_vowels(letter):\n",
        "    vowels = ['a', 'e', 'i', 'o', 'u']\n",
        "    return True if letter in vowels else False\n",
        "\n",
        "filtered_vowels = filter(filter_vowels, letters)\n",
        "\n",
        "# converting to tuple or list\n",
        "#vowels = tuple(filtered_vowels)\n",
        "vowels = list(filtered_vowels)\n",
        "print(vowels)"
      ],
      "metadata": {
        "colab": {
          "base_uri": "https://localhost:8080/"
        },
        "id": "1uYleSWiixD3",
        "outputId": "4149050b-212d-4896-c356-12be8ad7351f"
      },
      "execution_count": 21,
      "outputs": [
        {
          "output_type": "stream",
          "name": "stdout",
          "text": [
            "['a', 'e', 'i', 'o']\n"
          ]
        }
      ]
    },
    {
      "cell_type": "code",
      "source": [
        "numbers = [1, 2, 3, 4, 5, 6, 7]\n",
        "\n",
        "# the lambda function returns True for even numbers\n",
        "even_numbers_iterator = filter(lambda x: (x%2 == 0), numbers)\n",
        "\n",
        "# converting to list\n",
        "even_numbers = list(even_numbers_iterator)\n",
        "\n",
        "print(even_numbers)"
      ],
      "metadata": {
        "id": "ro6QIUuVo39k",
        "outputId": "4e809fa5-1602-4328-de4a-be7ab9e20d84",
        "colab": {
          "base_uri": "https://localhost:8080/"
        }
      },
      "execution_count": 22,
      "outputs": [
        {
          "output_type": "stream",
          "name": "stdout",
          "text": [
            "[2, 4, 6]\n"
          ]
        }
      ]
    }
  ]
}