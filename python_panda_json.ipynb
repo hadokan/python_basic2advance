{
  "nbformat": 4,
  "nbformat_minor": 0,
  "metadata": {
    "colab": {
      "provenance": [],
      "authorship_tag": "ABX9TyO9Dvh0r/O85VkYgQM3Bi+3",
      "include_colab_link": true
    },
    "kernelspec": {
      "name": "python3",
      "display_name": "Python 3"
    },
    "language_info": {
      "name": "python"
    }
  },
  "cells": [
    {
      "cell_type": "markdown",
      "metadata": {
        "id": "view-in-github",
        "colab_type": "text"
      },
      "source": [
        "<a href=\"https://colab.research.google.com/github/hadokan/python_basics/blob/main/python_panda_json.ipynb\" target=\"_parent\"><img src=\"https://colab.research.google.com/assets/colab-badge.svg\" alt=\"Open In Colab\"/></a>"
      ]
    },
    {
      "cell_type": "code",
      "execution_count": 2,
      "metadata": {
        "colab": {
          "base_uri": "https://localhost:8080/"
        },
        "id": "jLpUghsiE5Jz",
        "outputId": "4a9a8106-d135-404a-e007-7b8501abb5e9"
      },
      "outputs": [
        {
          "output_type": "stream",
          "name": "stdout",
          "text": [
            "43\n",
            "{'name': 'Hakan', 'age': 43, 'city': 'istanbul'}\n"
          ]
        }
      ],
      "source": [
        "import json\n",
        "\n",
        "# some JSON:\n",
        "data =  '{ \"name\":\"Hakan\", \"age\":43, \"city\":\"istanbul\"}'\n",
        "\n",
        "# parse x:\n",
        "Pdata = json.loads(data)\n",
        "\n",
        "# the result is a Python dictionary:\n",
        "print(Pdata[\"age\"])\n",
        "\n",
        "print(Pdata)"
      ]
    },
    {
      "cell_type": "code",
      "source": [
        "import json\n",
        "\n",
        "# a Python object (dict):\n",
        "x = {\n",
        "  \"name\": \"Dogan\",\n",
        "  \"age\": 44,\n",
        "  \"city\": \"Ankara\"\n",
        "}\n",
        "\n",
        "# convert into JSON:\n",
        "y = json.dumps(x)\n",
        "\n",
        "# the result is a JSON string:\n",
        "print(y)"
      ],
      "metadata": {
        "colab": {
          "base_uri": "https://localhost:8080/"
        },
        "id": "raXO_xRTFdPq",
        "outputId": "80f6f6a6-8a23-4fea-a09b-dea283f5a74c"
      },
      "execution_count": 3,
      "outputs": [
        {
          "output_type": "stream",
          "name": "stdout",
          "text": [
            "{\"name\": \"Dogan\", \"age\": 44, \"city\": \"Ankara\"}\n"
          ]
        }
      ]
    },
    {
      "cell_type": "code",
      "source": [
        "import json\n",
        "\n",
        "# python object(dictionary) is as follow;\n",
        "dictX ={\n",
        "    \"employer1\": {\n",
        "        \"name\": \"hakan\",\n",
        "        \"occupation\": \"manager\",\n",
        "        \"age\": \"44\",\n",
        "        \"salary\": \"30000\"\n",
        "    },\n",
        "    \"employer2\": {\n",
        "        \"name\": \"dogan\",\n",
        "        \"occupation\": \"engineer\",\n",
        "        \"age\": \"34\",\n",
        "        \"salary\": \"20000\"\n",
        "    },\n",
        "}\n",
        "\n",
        "# the json file is created as\n",
        "out_file = open(\"json_try_file1.json\", \"w\")\n",
        "# to be dumped\n",
        "json.dump(dictX, out_file, indent = 6)\n",
        "out_file.close()\n",
        "\n",
        "\n",
        "with open('json_try_file2.json', 'w', encoding ='utf8') as json_file:\n",
        "    json.dump(dictX, json_file, ensure_ascii = True)\n",
        "\n",
        "print(dictX)\n",
        "\n",
        "import os\n",
        "print('.......................')\n",
        "print(os.getcwd())\n",
        "os.listdir()\n",
        "#download file from colab\n",
        "#from google.colab import files\n",
        "files.download('json_try_file1.json')\n",
        "\n",
        "files.download('json_try_file2.json')"
      ],
      "metadata": {
        "colab": {
          "base_uri": "https://localhost:8080/",
          "height": 89
        },
        "id": "6yGlH8G0JVhF",
        "outputId": "97f9145c-7ed2-4a60-96fe-39e6fb58e643"
      },
      "execution_count": 9,
      "outputs": [
        {
          "output_type": "stream",
          "name": "stdout",
          "text": [
            "{'employer1': {'name': 'hakan', 'occupation': 'manager', 'age': '44', 'salary': '30000'}, 'employer2': {'name': 'dogan', 'occupation': 'engineer', 'age': '34', 'salary': '20000'}}\n",
            ".......................\n",
            "/content\n"
          ]
        },
        {
          "output_type": "display_data",
          "data": {
            "text/plain": [
              "<IPython.core.display.Javascript object>"
            ],
            "application/javascript": [
              "\n",
              "    async function download(id, filename, size) {\n",
              "      if (!google.colab.kernel.accessAllowed) {\n",
              "        return;\n",
              "      }\n",
              "      const div = document.createElement('div');\n",
              "      const label = document.createElement('label');\n",
              "      label.textContent = `Downloading \"${filename}\": `;\n",
              "      div.appendChild(label);\n",
              "      const progress = document.createElement('progress');\n",
              "      progress.max = size;\n",
              "      div.appendChild(progress);\n",
              "      document.body.appendChild(div);\n",
              "\n",
              "      const buffers = [];\n",
              "      let downloaded = 0;\n",
              "\n",
              "      const channel = await google.colab.kernel.comms.open(id);\n",
              "      // Send a message to notify the kernel that we're ready.\n",
              "      channel.send({})\n",
              "\n",
              "      for await (const message of channel.messages) {\n",
              "        // Send a message to notify the kernel that we're ready.\n",
              "        channel.send({})\n",
              "        if (message.buffers) {\n",
              "          for (const buffer of message.buffers) {\n",
              "            buffers.push(buffer);\n",
              "            downloaded += buffer.byteLength;\n",
              "            progress.value = downloaded;\n",
              "          }\n",
              "        }\n",
              "      }\n",
              "      const blob = new Blob(buffers, {type: 'application/binary'});\n",
              "      const a = document.createElement('a');\n",
              "      a.href = window.URL.createObjectURL(blob);\n",
              "      a.download = filename;\n",
              "      div.appendChild(a);\n",
              "      a.click();\n",
              "      div.remove();\n",
              "    }\n",
              "  "
            ]
          },
          "metadata": {}
        },
        {
          "output_type": "display_data",
          "data": {
            "text/plain": [
              "<IPython.core.display.Javascript object>"
            ],
            "application/javascript": [
              "download(\"download_dd8f1335-7bc9-427d-b4d9-8a8f6469e56d\", \"json_try_file1.json\", 305)"
            ]
          },
          "metadata": {}
        },
        {
          "output_type": "display_data",
          "data": {
            "text/plain": [
              "<IPython.core.display.Javascript object>"
            ],
            "application/javascript": [
              "\n",
              "    async function download(id, filename, size) {\n",
              "      if (!google.colab.kernel.accessAllowed) {\n",
              "        return;\n",
              "      }\n",
              "      const div = document.createElement('div');\n",
              "      const label = document.createElement('label');\n",
              "      label.textContent = `Downloading \"${filename}\": `;\n",
              "      div.appendChild(label);\n",
              "      const progress = document.createElement('progress');\n",
              "      progress.max = size;\n",
              "      div.appendChild(progress);\n",
              "      document.body.appendChild(div);\n",
              "\n",
              "      const buffers = [];\n",
              "      let downloaded = 0;\n",
              "\n",
              "      const channel = await google.colab.kernel.comms.open(id);\n",
              "      // Send a message to notify the kernel that we're ready.\n",
              "      channel.send({})\n",
              "\n",
              "      for await (const message of channel.messages) {\n",
              "        // Send a message to notify the kernel that we're ready.\n",
              "        channel.send({})\n",
              "        if (message.buffers) {\n",
              "          for (const buffer of message.buffers) {\n",
              "            buffers.push(buffer);\n",
              "            downloaded += buffer.byteLength;\n",
              "            progress.value = downloaded;\n",
              "          }\n",
              "        }\n",
              "      }\n",
              "      const blob = new Blob(buffers, {type: 'application/binary'});\n",
              "      const a = document.createElement('a');\n",
              "      a.href = window.URL.createObjectURL(blob);\n",
              "      a.download = filename;\n",
              "      div.appendChild(a);\n",
              "      a.click();\n",
              "      div.remove();\n",
              "    }\n",
              "  "
            ]
          },
          "metadata": {}
        },
        {
          "output_type": "display_data",
          "data": {
            "text/plain": [
              "<IPython.core.display.Javascript object>"
            ],
            "application/javascript": [
              "download(\"download_f95ad6c5-ebd3-4638-8084-0109ccf02a87\", \"json_try_file2.json\", 179)"
            ]
          },
          "metadata": {}
        }
      ]
    }
  ]
}